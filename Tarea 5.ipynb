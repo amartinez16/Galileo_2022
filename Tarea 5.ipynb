{
 "cells": [
  {
   "cell_type": "markdown",
   "id": "4ea46f1d",
   "metadata": {},
   "source": [
    "Tarea 5: vectores en numpy    Luis Adolfo Martínez Ortiz - 22000352"
   ]
  },
  {
   "cell_type": "code",
   "execution_count": 1,
   "id": "4605aeeb",
   "metadata": {},
   "outputs": [],
   "source": [
    "import numpy as np"
   ]
  },
  {
   "cell_type": "markdown",
   "id": "efc627d5",
   "metadata": {},
   "source": [
    "## Ejercicio 1\n",
    "\n",
    "en data science y programación científica es común necesitar vectores con valores dentro de cierto intervalo, pero con sub-intervalos internos con diference espaciamiento ,por ejemplo:\n",
    "\n",
    "[0.  , 0.1 , 0.2 , 0.3 , 0.4 , 0.5 , 0.51, 0.52, 0.53, 0.54, 0.55,\n",
    "       0.56, 0.57, 0.58, 0.59, 0.6 , 0.7 , 0.8 , 0.9 , 1.  ]\n",
    "       \n",
    "El primer sub-intervalo incrementa de 0.1 en 0.1 , el segundo de 0.01 en 0.01 , y el tercero de 0.1 en 0.1 nuevamente.\n",
    "\n",
    "Usando unicamente NumPy crea un vector de este tipo con el nombre xs .\n",
    "\n",
    "**nota**: no es permitido usar ciclos, debe realizarse con operaciones \"vectorizadas\" de numpy"
   ]
  },
  {
   "cell_type": "code",
   "execution_count": 3,
   "id": "41fbd7cf",
   "metadata": {},
   "outputs": [
    {
     "name": "stdout",
     "output_type": "stream",
     "text": [
      "[0.   0.1  0.2  0.3  0.4  0.5  0.51 0.52 0.53 0.54 0.55 0.56 0.57 0.58\n",
      " 0.59 0.6  0.7  0.8  0.9  1.  ]\n"
     ]
    }
   ],
   "source": [
    "# tu codigo aqui (~ 5 lineas de codigo):\n",
    "x1 = np.linspace(0,0.5,6) \n",
    "x2 = np.linspace(0.51,0.59, 9)\n",
    "x3 = np.linspace(0.6,1,5)\n",
    "xs = np.concatenate([x1,x2,x3])\n",
    "print(xs)"
   ]
  },
  {
   "cell_type": "markdown",
   "id": "3952657c",
   "metadata": {},
   "source": [
    "### Ejercicio 2\n",
    "\n",
    "Para calcular la información de una distribución de probabilidad necesitamos calcular el producto entre la información de cada posible x y su probabilidad , cada uno de estos elementos nos indica cuanta incerteza aporta cada x a la entropía de la distribución. Crea una función que calcule esto, debe recibir un vector representando a la dist. de probabilidad y devoler otro vector con el termino de entropía para cada x. Por ejemplo:\n",
    "\n",
    "calcular_entropia([0.25,0.75])\n",
    "\n",
    "Debe resultar en :\n",
    "\n",
    "[0.5    ,    0.31127812]\n",
    "\n",
    "**Nota**: la entropía es la suma sobre estos valores, en este caso no calculamos la entropía,unicamente los termimos de su sumatoria. La entropía es:\n",
    "\n",
    "$$S = -\\sum_i^nP(x_{i})log_{2}P(x_{i})$$"
   ]
  },
  {
   "cell_type": "code",
   "execution_count": 4,
   "id": "d9a45261",
   "metadata": {},
   "outputs": [
    {
     "name": "stdout",
     "output_type": "stream",
     "text": [
      "[0.5        0.31127812]\n"
     ]
    }
   ],
   "source": [
    "def calcula_entropia(x):\n",
    "    return -(x*np.log2(x))\n",
    "\n",
    "c1 = [0.25,0.75]\n",
    "print(calcula_entropia(c1))\n"
   ]
  },
  {
   "cell_type": "code",
   "execution_count": 5,
   "id": "b2947d53",
   "metadata": {},
   "outputs": [],
   "source": [
    "### Ejercicio 3"
   ]
  },
  {
   "cell_type": "code",
   "execution_count": 6,
   "id": "8e297c30",
   "metadata": {},
   "outputs": [
    {
     "name": "stdout",
     "output_type": "stream",
     "text": [
      "Ganancias [20399.73735829  2599.82010025   337.37862871 20399.73735829]\n"
     ]
    }
   ],
   "source": [
    "def g(x):\n",
    "    \n",
    "    ganancia = (np.power(x,3) + 2.0*(np.power(x,2.0))+np.exp(0.0001*x) - np.sqrt(2.0*x))/50\n",
    "    \n",
    "    return ganancia\n",
    "    \n",
    "gastos = np.array([100,50,25,100])\n",
    "ganancia = g(gastos)\n",
    "\n",
    "print(\"Ganancias\",ganancia)"
   ]
  },
  {
   "cell_type": "markdown",
   "id": "fcf3f5a9",
   "metadata": {},
   "source": [
    "se ha determinado también que hay costos asociados a la comunicación y relación con los clientes(llamadas,mensajes electrónicos,etc) y que estos también tienen alta correlación con el monto que estos gastan en su primer més siguiendo el modelo:\n",
    "$$c(x) = (x^{2} + x + log (0.0001x)-\\sqrt{0.54x})/100$$\n",
    "\n",
    "Cree una función para calcular este modelo sobre valores de de gasto de nuevos clientes , y luego cree una función  **ganancia_neta(x,g,c)** donde:\n",
    "* x = vector conteniendo los valores de gasto del primer mes para nuevos clientes.\n",
    "* g = función que estima la ganancia en función de x\n",
    "* c = función que estima el costo en función de x\n",
    "\n",
    "La función realiza el calculo simple **g(x) - c(x)** , ya que es posible que los modelos cambien en el tiempo es común recibir como parámetro el modelo o modelos hijos de un modelo mas grande , en este caso eso se logra recibiendo como parámetro las funciones de ganancia y costo."
   ]
  },
  {
   "cell_type": "code",
   "execution_count": 7,
   "id": "2fe1ca7e",
   "metadata": {},
   "outputs": [
    {
     "name": "stdout",
     "output_type": "stream",
     "text": [
      "Resultado:  [20298.85689469  2574.42504495   330.9752857  20298.85689469]\n"
     ]
    }
   ],
   "source": [
    "def costo_neto(x):\n",
    "    costo = (np.power(x,2)+ x + np.log(x * 0.0001) - np.sqrt(0.54*x))/100\n",
    "    return costo\n",
    "\n",
    "def ganancia_neta(x,g,c):\n",
    "    return g(x)-c(x)\n",
    "\n",
    "x = np.array([100,50,25,100])\n",
    "ganancia_n = ganancia_neta(x,g,costo_neto)\n",
    "\n",
    "print(\"Resultado: \",ganancia_n)"
   ]
  },
  {
   "cell_type": "markdown",
   "id": "60adc5ac",
   "metadata": {},
   "source": [
    "### Ejercicio 4 - Mode\n",
    "\n",
    "Usando argmax crear una función mode(x) para calcular la moda de un vector x , esta función debe devolver una tupla de 2 elementos de la forma:\n",
    "\n",
    "(valor,conteo)\n",
    "\n",
    "**tip** investigar y auxiliarse de otras funciones de numpy y np.argmax, no olvidar trabajar todo vectorizado, sin ciclos."
   ]
  },
  {
   "cell_type": "code",
   "execution_count": 8,
   "id": "7a8aa322",
   "metadata": {},
   "outputs": [
    {
     "name": "stdout",
     "output_type": "stream",
     "text": [
      "(2, 5)\n"
     ]
    }
   ],
   "source": [
    "def mode(x):\n",
    "    ## tu codigo aqui (~ 3 lineas de codigo):\n",
    "    numero, cantidad = np.unique(x, return_counts=True)\n",
    "    moda = np.argmax(cantidad)\n",
    "    return numero[moda], cantidad[moda]\n",
    "print(mode([1,2,3,3,4,3,3,2,2,1,2,6,2]))"
   ]
  },
  {
   "cell_type": "markdown",
   "id": "57827222",
   "metadata": {},
   "source": [
    "### Ejercicio 5\n",
    "\n",
    "crear una función para calcular la entropía  de una distribución de probabilidad representada como un vector.\n",
    "$$S = -\\sum_i^nP(x_{i})log_{2}P(x_{i})$$\n",
    "\n",
    "**Nota**: a diferencia del ejercicio anterior donde solo calculamos los términos de la entropía, en este caso  si calculamos el valor completo de la entropía, que como mencionamos es una medida de incerteza en una distribución de probabilidad.\n",
    "\n",
    "**recordatorio**: no usar ciclos solo operaciones vectorizadas."
   ]
  },
  {
   "cell_type": "code",
   "execution_count": 9,
   "id": "bcdb0466",
   "metadata": {},
   "outputs": [],
   "source": [
    "def calcular_entropia(arr):\n",
    "    sal = np.sum(arr*np.log2(arr)*-1)\n",
    "    return sal "
   ]
  },
  {
   "cell_type": "code",
   "execution_count": 10,
   "id": "5c5a6c94",
   "metadata": {},
   "outputs": [
    {
     "data": {
      "text/plain": [
       "0.8112781244591328"
      ]
     },
     "execution_count": 10,
     "metadata": {},
     "output_type": "execute_result"
    }
   ],
   "source": [
    "calcular_entropia([0.25,0.75])"
   ]
  },
  {
   "cell_type": "markdown",
   "id": "e9624cee",
   "metadata": {},
   "source": [
    "**Ejercicio**: En ML usamos la entropía cruzada como una forma de medir que tan bueno es un modelo de variables discretas a través de comparar la distribución de probabilidad que el modelo produce o predice, vs la distribución de probabilidad real dada por los datos de entrenamiento.\n",
    "\n",
    "Podemos ver el siguiente ejemplo que define la forma en que se calcula la entropía cruzada y nos muestra un caso específico:\n",
    "\n",
    "<img src=\"https://image.slidesharecdn.com/publishintroductiontodeeplearninginpythonandmatlab1-160502102437/95/introduction-to-deep-learning-in-python-and-matlab-54-638.jpg?cb=1462185644\">\n",
    "\n",
    "En este caso interpretamos así: El problema consiste en un modelo o algoritmo de ML que debe producir un vector de 3 elementos indicando la probabilidad de que ciertos datos X pertenezcan a una de 3 categorías.\n",
    "\n",
    "* El modelo de ML produce un vector que indica que estima un 70% de probabilidad de que se trate de la categoría 0, 20% de probabilidad de que se trate de la categoría 1 y 10% de que se trate de la categoría 2.\n",
    "* Los datos reales nos dicen que se trataba de un caso donde con total certeza se sabe que se trata de la categoría 0\n",
    "* La entropía cruzada(a calcular en el ejercicio) nos indica que tan buena es la estimación del modelo, una EC de 0 es un modelo perfecto(en este caso un modelo que predice 100% de prob para la clase 0)\n",
    "\n",
    "**Nota** \n",
    "* Aun que para calcular la entropía usamos logaritmos en base 2, en ML para calcular la entropía cruzada se usa logaritmo natural ya que con este se cumple el proposito **estimar que tanto se alejan las predicciones del modelo de ML de los datos reales** y es comunmente mas rápido de calcular en la computadora.\n",
    "* Ya que estamos trabajando con vectores que representan distribuciones de probabilidad , podemos toparnos con lo que se conoce como : **sparse vectors**(vectores donde la mayoría de elementos son 0), esto puede producir problemas ya que le logaritmo de 0 no esta definido, tu solución debe tomar en cuenta esto y evitar que devuelva \"nan\""
   ]
  },
  {
   "cell_type": "code",
   "execution_count": 11,
   "id": "6287d965",
   "metadata": {},
   "outputs": [
    {
     "data": {
      "text/plain": [
       "-0.35667494393873245"
      ]
     },
     "execution_count": 11,
     "metadata": {},
     "output_type": "execute_result"
    }
   ],
   "source": [
    "def cross_entropy(Y,Y_hat):\n",
    "    ##tu codigo aqui (~ 1 lineas de codigo)\n",
    "    return np.sum(Y*np.log(np.clip(Y_hat, 1e-12, None) ))\n",
    "    \n",
    "\n",
    "y  = np.array([1.0,0,0])\n",
    "y_hat = np.array([0.7,0.2,0.1])\n",
    "\n",
    "cross_entropy(y,y_hat)"
   ]
  },
  {
   "cell_type": "markdown",
   "id": "c8b81e7e",
   "metadata": {},
   "source": [
    "### Ejercicio 7 - Normalizacion\n",
    "\n",
    "crear una función que reciba como parámetro un vector x y calcule su magnitud o norma(euclidiana o L2) ,luego usarla para evaluar 2 vectores que representan los errores generados por 2 modelos de machine learning y concluir cual de los 2 modelos es mejor."
   ]
  },
  {
   "cell_type": "code",
   "execution_count": 12,
   "id": "da728e29",
   "metadata": {},
   "outputs": [
    {
     "name": "stdout",
     "output_type": "stream",
     "text": [
      "10\n",
      "6\n"
     ]
    }
   ],
   "source": [
    "def magnitud(x):\n",
    "    ## tu codigo aqui (~ 1 linea de codigo)\n",
    "    return np.sum(np.power(x,2)) # raiz cuadrada\n",
    "\n",
    "errores_modelo1 = np.array([1,2,1,2]) #\n",
    "errores_modelo2 = np.array([0,1,1,2]) #\n",
    "\n",
    "print(magnitud(errores_modelo1))\n",
    "print(magnitud(errores_modelo2))"
   ]
  },
  {
   "cell_type": "markdown",
   "id": "6e2d4517",
   "metadata": {},
   "source": [
    "### Ejercicio 8\n",
    "\n",
    "Usando la función del ejercicio anterior, crea otra función normalizar(x) que reciba de parámetro un vector x aplique normalización sobre este, el resultado debe ser un nuevo vector del tamaño de x cuya magnitud es igual a 1.0"
   ]
  },
  {
   "cell_type": "code",
   "execution_count": 13,
   "id": "bf151f96",
   "metadata": {},
   "outputs": [
    {
     "name": "stdout",
     "output_type": "stream",
     "text": [
      "0.10000000000000002\n",
      "[0.         0.16666667 0.16666667 0.33333333]\n"
     ]
    }
   ],
   "source": [
    "def normalizar(x):\n",
    "    ## tu codigo aqui (~ 3 linea de codigo)\n",
    "    return x / magnitud(x) \n",
    "    \n",
    "\n",
    "print(magnitud(normalizar(errores_modelo1)))\n",
    "print(normalizar(errores_modelo2))"
   ]
  },
  {
   "cell_type": "markdown",
   "id": "4363be5a",
   "metadata": {},
   "source": [
    "## Ejercicio 9 - Opoeradores logicos\n",
    "\n",
    "dado el vector x, usar operadores lógicos sobre vectores y acceso a  elementos usando vectores booleanos , escribir un programa que calcule eun nuevo vector z conteniendo el valor absoluto de el vector x.\n",
    "\n",
    "**nota** No se puede usar np.abs() ni ciclos\n",
    "\n",
    "**tip** usar un vector booleano para saber que elementos son negativos y deben ser multiplicados por -1"
   ]
  },
  {
   "cell_type": "code",
   "execution_count": 14,
   "id": "28323f4e",
   "metadata": {},
   "outputs": [
    {
     "name": "stdout",
     "output_type": "stream",
     "text": [
      "[4.         3.27272727 2.54545455 1.81818182 1.09090909 0.36363636\n",
      " 0.36363636 1.09090909 1.81818182 2.54545455 3.27272727 4.        ]\n"
     ]
    }
   ],
   "source": [
    "x = np.linspace(-4,4,12)\n",
    "\n",
    "## tu codigo aqui (~ 4 linea de codigo)\n",
    "def custom_abs(x):\n",
    "    t1 = x[x<0]*-1\n",
    "    t2 = x[x>=0]\n",
    "    return np.concatenate((t1,t2))\n",
    "\n",
    "print(custom_abs(x))"
   ]
  },
  {
   "cell_type": "markdown",
   "id": "e1a26ba1",
   "metadata": {},
   "source": [
    "### Ejercicio 10 \n",
    "\n",
    "Implementar la función:\n",
    "$$h(x) = \\begin{cases}0 & x< 0\\\\1 & 0<=x <=1\\\\0 & x> 1\\end{cases}$$\n",
    "\n",
    "Esta debe funcionar para vectores de cualquier tamaño x:\n",
    "\n",
    "def h(x):\n",
    "\n",
    "    ...\n",
    "\n",
    "**nota** debe ser implementada sin ciclos o ifs "
   ]
  },
  {
   "cell_type": "code",
   "execution_count": 16,
   "id": "79b397a3",
   "metadata": {},
   "outputs": [
    {
     "name": "stdout",
     "output_type": "stream",
     "text": [
      "[-0.  1.  1.  0.]\n"
     ]
    }
   ],
   "source": [
    "def h(x):\n",
    "    ## tu codigo aqui (~ 3 linea de codigo)\n",
    "    x0 = x[x<0]*0\n",
    "    x1 = x[(x >= 0) & (x < 1)]/x[(x >= 0) & (x < 1)]\n",
    "    x2 = x[x > 1]*0\n",
    "    res = np.concatenate((x0,x1,x2))\n",
    "    ##\n",
    "    return res\n",
    "\n",
    "x = np.array([0.1,-2,0.5,5])\n",
    "print(h(x))"
   ]
  },
  {
   "cell_type": "markdown",
   "id": "fd859c4e",
   "metadata": {},
   "source": [
    "### Ejercicio 11 - select"
   ]
  },
  {
   "cell_type": "markdown",
   "id": "1477d201",
   "metadata": {},
   "source": [
    "Usando select implementar una función k(x) con la siguiente definición:\n",
    "$$k(x) = \\begin{cases}-x & x< 0\\\\x^{3}  &0<=x<1\\\\x^{2}  &1<=x<2\\\\4  &otherwise\\end{cases}$$"
   ]
  },
  {
   "cell_type": "code",
   "execution_count": 18,
   "id": "05a43201",
   "metadata": {},
   "outputs": [
    {
     "name": "stdout",
     "output_type": "stream",
     "text": [
      "[0.   0.25 0.5  0.75 1.   1.25 1.5  1.75 2.   2.25 2.5 ]\n",
      "[0.       0.015625 0.125    0.421875 1.       1.5625   2.25     3.0625\n",
      " 4.       4.       4.      ]\n"
     ]
    }
   ],
   "source": [
    "def k(x):\n",
    "    condi = [x<0,(x >= 0) & (x < 1),(x >= 1) & (x < 2)]\n",
    "    oper = [x,x**3,x**2]\n",
    "    Res = np.select(condi,oper,4)\n",
    "    return Res\n",
    "\n",
    "x = np.linspace(0,2.5,11)\n",
    "print(x)\n",
    "print(k(x))"
   ]
  },
  {
   "cell_type": "markdown",
   "id": "e8d5f8c3",
   "metadata": {},
   "source": [
    "### Ejercicio 12 - piecewise"
   ]
  },
  {
   "cell_type": "markdown",
   "id": "fb561622",
   "metadata": {},
   "source": [
    "Investigar piecewise y:\n",
    "*  Usarlo para implementar la función anterior de manera eficiente\n",
    "*  Usar piscewise para implementar la función:\n",
    "\n",
    "$$m(x) = \\begin{cases}e^{2x} & x< 0\\\\1  &0<=x<1\\\\e^{1-x}  &x<=1\\\\\\end{cases}$$\n",
    "\n",
    "Nuevamente, sin utilizar ciclos ni ifs"
   ]
  },
  {
   "cell_type": "markdown",
   "id": "51eeee29",
   "metadata": {},
   "source": [
    "def k(x):\n",
    "\n",
    "    k = np.piecewise(x, [x<0,(x >= 0) & (x < 1),x>=1],[lambda x: np.power(np.e,2*x),1,lambda x: np.power(np.e,1-x)])\n",
    "    return k\n",
    "\n",
    "x = np.linspace(-1,2.5,15)\n",
    "print(x)\n",
    "print(k(x))"
   ]
  },
  {
   "cell_type": "code",
   "execution_count": 19,
   "id": "c8fa8af1",
   "metadata": {},
   "outputs": [
    {
     "name": "stdout",
     "output_type": "stream",
     "text": [
      "[-1.   -0.75 -0.5  -0.25  0.    0.25  0.5   0.75  1.    1.25  1.5   1.75\n",
      "  2.    2.25  2.5 ]\n",
      "[0.13533528 0.22313016 0.36787944 0.60653066 1.         1.\n",
      " 1.         1.         1.         0.77880078 0.60653066 0.47236655\n",
      " 0.36787944 0.2865048  0.22313016]\n"
     ]
    }
   ],
   "source": [
    "def k(x):\n",
    "\n",
    "    res = np.piecewise(x, [x<0,(x >= 0) & (x < 1),x>=1],[lambda x: np.power(np.e,2*x),1,lambda x: np.power(np.e,1-x)])\n",
    "    return res\n",
    "\n",
    "x = np.linspace(-1,2.5,15)\n",
    "print(x)\n",
    "print(k(x))\n"
   ]
  },
  {
   "cell_type": "markdown",
   "id": "3df903ee",
   "metadata": {},
   "source": [
    "### Proyección vectorial"
   ]
  },
  {
   "cell_type": "markdown",
   "id": "e67f52bb",
   "metadata": {},
   "source": [
    "$$\\vec{P_{u,v}} =  \\frac{\\vec{u} . \\vec{v}}{|\\vec{v}|^{2}} . \\vec{v}$$"
   ]
  },
  {
   "cell_type": "markdown",
   "id": "cfb97d27",
   "metadata": {},
   "source": [
    "Es función de proyectar un vector sobre otro y cubrirlo desde el extremos y saber en que punto se corta la recta perpendicular"
   ]
  },
  {
   "cell_type": "markdown",
   "id": "9fa6b7df",
   "metadata": {},
   "source": [
    "### Ejemplo"
   ]
  },
  {
   "cell_type": "code",
   "execution_count": 33,
   "id": "ac492b25",
   "metadata": {},
   "outputs": [
    {
     "name": "stdout",
     "output_type": "stream",
     "text": [
      "Poyeccion vector 1:  [0.11111111 0.        ]\n"
     ]
    }
   ],
   "source": [
    "def vector_proyectado(u,v):\n",
    "    cos = np.power(magnitud(v),2)\n",
    "    resultado = np.dot(np.dot(u,v) / cos , v)\n",
    "    \n",
    "    return resultado\n",
    "\n",
    "u = [4,5]\n",
    "v = [6,0]\n",
    "print (\"Poyeccion vector 1: \", vector_proyectado(u,v))\n"
   ]
  },
  {
   "cell_type": "markdown",
   "id": "e4721843",
   "metadata": {},
   "source": [
    "Esto lo podemos utilizar para saber cuando un objeto intercepta al otro"
   ]
  },
  {
   "cell_type": "markdown",
   "id": "fd7aa687",
   "metadata": {},
   "source": [
    "### Producto cruz"
   ]
  },
  {
   "cell_type": "code",
   "execution_count": 32,
   "id": "d773c6ce",
   "metadata": {},
   "outputs": [
    {
     "data": {
      "text/plain": [
       "array([-9,  6,  5])"
      ]
     },
     "execution_count": 32,
     "metadata": {},
     "output_type": "execute_result"
    }
   ],
   "source": [
    "x1 = [4, 1, 6]\n",
    "x2 = [3, 2, 3]\n",
    "np.cross(a,b)"
   ]
  },
  {
   "cell_type": "code",
   "execution_count": null,
   "id": "ad289b36",
   "metadata": {},
   "outputs": [],
   "source": []
  }
 ],
 "metadata": {
  "kernelspec": {
   "display_name": "Python 3 (ipykernel)",
   "language": "python",
   "name": "python3"
  },
  "language_info": {
   "codemirror_mode": {
    "name": "ipython",
    "version": 3
   },
   "file_extension": ".py",
   "mimetype": "text/x-python",
   "name": "python",
   "nbconvert_exporter": "python",
   "pygments_lexer": "ipython3",
   "version": "3.9.7"
  }
 },
 "nbformat": 4,
 "nbformat_minor": 5
}
