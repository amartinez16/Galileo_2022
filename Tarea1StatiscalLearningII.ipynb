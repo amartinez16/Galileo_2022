{
  "nbformat": 4,
  "nbformat_minor": 0,
  "metadata": {
    "colab": {
      "provenance": [],
      "collapsed_sections": []
    },
    "kernelspec": {
      "name": "python3",
      "display_name": "Python 3"
    },
    "language_info": {
      "name": "python"
    }
  },
  "cells": [
    {
      "cell_type": "markdown",
      "source": [
        "Luis Adolfo Martínez \n",
        "**22000352** "
      ],
      "metadata": {
        "id": "2BsDfadWGx2I"
      }
    },
    {
      "cell_type": "code",
      "execution_count": null,
      "metadata": {
        "id": "cU89U_WlxbFq"
      },
      "outputs": [],
      "source": [
        "import numpy as np\n",
        "import pandas as pd\n",
        "import seaborn as sns\n",
        "from sklearn.mixture import GaussianMixture\n",
        "import random\n",
        "import matplotlib.pyplot as plt"
      ]
    },
    {
      "cell_type": "markdown",
      "source": [
        "**Practica 1 K-Means Y GMM**"
      ],
      "metadata": {
        "id": "QCVR36fC7L4u"
      }
    },
    {
      "cell_type": "code",
      "source": [
        "import os.path\n",
        "from os import path"
      ],
      "metadata": {
        "id": "iPtMSPlB3Yxx"
      },
      "execution_count": null,
      "outputs": []
    },
    {
      "cell_type": "code",
      "source": [
        "from google.colab import drive\n",
        "drive.mount('/content/drive')"
      ],
      "metadata": {
        "id": "yqjgQ6hXzguW",
        "colab": {
          "base_uri": "https://localhost:8080/"
        },
        "outputId": "93ce3056-7e30-41ac-e80a-7fd085aeada8"
      },
      "execution_count": null,
      "outputs": [
        {
          "output_type": "stream",
          "name": "stdout",
          "text": [
            "Mounted at /content/drive\n"
          ]
        }
      ]
    },
    {
      "cell_type": "code",
      "source": [
        "direccion = \"/content/drive/MyDrive/TextMining/Archivos\"\n",
        "os.chdir(direccion)"
      ],
      "metadata": {
        "id": "BiRMsLT2zilX"
      },
      "execution_count": null,
      "outputs": []
    },
    {
      "cell_type": "code",
      "source": [
        "datos = pd.read_excel('estaturas.xlsx')\n",
        "data_base = pd.read_excel('estaturas.xlsx')"
      ],
      "metadata": {
        "id": "ZK7HfsOB-H9q"
      },
      "execution_count": null,
      "outputs": []
    },
    {
      "cell_type": "code",
      "source": [
        "datos.head()"
      ],
      "metadata": {
        "colab": {
          "base_uri": "https://localhost:8080/",
          "height": 206
        },
        "id": "Hxm4XodM-tsz",
        "outputId": "64f65c75-faef-407f-dfe8-39e8d3cf48e1"
      },
      "execution_count": null,
      "outputs": [
        {
          "output_type": "execute_result",
          "data": {
            "text/plain": [
              "   Estatura(metros)  Edad(años)\n",
              "0              1.77        26.0\n",
              "1              1.74        31.0\n",
              "2              1.72        24.0\n",
              "3              1.78        34.0\n",
              "4              1.65        32.0"
            ],
            "text/html": [
              "\n",
              "  <div id=\"df-3ba362d0-b913-4f0a-8fa3-cffc4a0c481d\">\n",
              "    <div class=\"colab-df-container\">\n",
              "      <div>\n",
              "<style scoped>\n",
              "    .dataframe tbody tr th:only-of-type {\n",
              "        vertical-align: middle;\n",
              "    }\n",
              "\n",
              "    .dataframe tbody tr th {\n",
              "        vertical-align: top;\n",
              "    }\n",
              "\n",
              "    .dataframe thead th {\n",
              "        text-align: right;\n",
              "    }\n",
              "</style>\n",
              "<table border=\"1\" class=\"dataframe\">\n",
              "  <thead>\n",
              "    <tr style=\"text-align: right;\">\n",
              "      <th></th>\n",
              "      <th>Estatura(metros)</th>\n",
              "      <th>Edad(años)</th>\n",
              "    </tr>\n",
              "  </thead>\n",
              "  <tbody>\n",
              "    <tr>\n",
              "      <th>0</th>\n",
              "      <td>1.77</td>\n",
              "      <td>26.0</td>\n",
              "    </tr>\n",
              "    <tr>\n",
              "      <th>1</th>\n",
              "      <td>1.74</td>\n",
              "      <td>31.0</td>\n",
              "    </tr>\n",
              "    <tr>\n",
              "      <th>2</th>\n",
              "      <td>1.72</td>\n",
              "      <td>24.0</td>\n",
              "    </tr>\n",
              "    <tr>\n",
              "      <th>3</th>\n",
              "      <td>1.78</td>\n",
              "      <td>34.0</td>\n",
              "    </tr>\n",
              "    <tr>\n",
              "      <th>4</th>\n",
              "      <td>1.65</td>\n",
              "      <td>32.0</td>\n",
              "    </tr>\n",
              "  </tbody>\n",
              "</table>\n",
              "</div>\n",
              "      <button class=\"colab-df-convert\" onclick=\"convertToInteractive('df-3ba362d0-b913-4f0a-8fa3-cffc4a0c481d')\"\n",
              "              title=\"Convert this dataframe to an interactive table.\"\n",
              "              style=\"display:none;\">\n",
              "        \n",
              "  <svg xmlns=\"http://www.w3.org/2000/svg\" height=\"24px\"viewBox=\"0 0 24 24\"\n",
              "       width=\"24px\">\n",
              "    <path d=\"M0 0h24v24H0V0z\" fill=\"none\"/>\n",
              "    <path d=\"M18.56 5.44l.94 2.06.94-2.06 2.06-.94-2.06-.94-.94-2.06-.94 2.06-2.06.94zm-11 1L8.5 8.5l.94-2.06 2.06-.94-2.06-.94L8.5 2.5l-.94 2.06-2.06.94zm10 10l.94 2.06.94-2.06 2.06-.94-2.06-.94-.94-2.06-.94 2.06-2.06.94z\"/><path d=\"M17.41 7.96l-1.37-1.37c-.4-.4-.92-.59-1.43-.59-.52 0-1.04.2-1.43.59L10.3 9.45l-7.72 7.72c-.78.78-.78 2.05 0 2.83L4 21.41c.39.39.9.59 1.41.59.51 0 1.02-.2 1.41-.59l7.78-7.78 2.81-2.81c.8-.78.8-2.07 0-2.86zM5.41 20L4 18.59l7.72-7.72 1.47 1.35L5.41 20z\"/>\n",
              "  </svg>\n",
              "      </button>\n",
              "      \n",
              "  <style>\n",
              "    .colab-df-container {\n",
              "      display:flex;\n",
              "      flex-wrap:wrap;\n",
              "      gap: 12px;\n",
              "    }\n",
              "\n",
              "    .colab-df-convert {\n",
              "      background-color: #E8F0FE;\n",
              "      border: none;\n",
              "      border-radius: 50%;\n",
              "      cursor: pointer;\n",
              "      display: none;\n",
              "      fill: #1967D2;\n",
              "      height: 32px;\n",
              "      padding: 0 0 0 0;\n",
              "      width: 32px;\n",
              "    }\n",
              "\n",
              "    .colab-df-convert:hover {\n",
              "      background-color: #E2EBFA;\n",
              "      box-shadow: 0px 1px 2px rgba(60, 64, 67, 0.3), 0px 1px 3px 1px rgba(60, 64, 67, 0.15);\n",
              "      fill: #174EA6;\n",
              "    }\n",
              "\n",
              "    [theme=dark] .colab-df-convert {\n",
              "      background-color: #3B4455;\n",
              "      fill: #D2E3FC;\n",
              "    }\n",
              "\n",
              "    [theme=dark] .colab-df-convert:hover {\n",
              "      background-color: #434B5C;\n",
              "      box-shadow: 0px 1px 3px 1px rgba(0, 0, 0, 0.15);\n",
              "      filter: drop-shadow(0px 1px 2px rgba(0, 0, 0, 0.3));\n",
              "      fill: #FFFFFF;\n",
              "    }\n",
              "  </style>\n",
              "\n",
              "      <script>\n",
              "        const buttonEl =\n",
              "          document.querySelector('#df-3ba362d0-b913-4f0a-8fa3-cffc4a0c481d button.colab-df-convert');\n",
              "        buttonEl.style.display =\n",
              "          google.colab.kernel.accessAllowed ? 'block' : 'none';\n",
              "\n",
              "        async function convertToInteractive(key) {\n",
              "          const element = document.querySelector('#df-3ba362d0-b913-4f0a-8fa3-cffc4a0c481d');\n",
              "          const dataTable =\n",
              "            await google.colab.kernel.invokeFunction('convertToInteractive',\n",
              "                                                     [key], {});\n",
              "          if (!dataTable) return;\n",
              "\n",
              "          const docLinkHtml = 'Like what you see? Visit the ' +\n",
              "            '<a target=\"_blank\" href=https://colab.research.google.com/notebooks/data_table.ipynb>data table notebook</a>'\n",
              "            + ' to learn more about interactive tables.';\n",
              "          element.innerHTML = '';\n",
              "          dataTable['output_type'] = 'display_data';\n",
              "          await google.colab.output.renderOutput(dataTable, element);\n",
              "          const docLink = document.createElement('div');\n",
              "          docLink.innerHTML = docLinkHtml;\n",
              "          element.appendChild(docLink);\n",
              "        }\n",
              "      </script>\n",
              "    </div>\n",
              "  </div>\n",
              "  "
            ]
          },
          "metadata": {},
          "execution_count": 6
        }
      ]
    },
    {
      "cell_type": "code",
      "source": [
        "type(datos)"
      ],
      "metadata": {
        "colab": {
          "base_uri": "https://localhost:8080/"
        },
        "id": "yAJLTH_t-5Sx",
        "outputId": "5c30a117-2e81-4295-f3b9-6a970527686a"
      },
      "execution_count": null,
      "outputs": [
        {
          "output_type": "execute_result",
          "data": {
            "text/plain": [
              "pandas.core.frame.DataFrame"
            ]
          },
          "metadata": {},
          "execution_count": 7
        }
      ]
    },
    {
      "cell_type": "code",
      "source": [
        "sns.scatterplot(x=\"Edad(años)\", y=\"Estatura(metros)\", data=datos)"
      ],
      "metadata": {
        "colab": {
          "base_uri": "https://localhost:8080/",
          "height": 296
        },
        "id": "31f7Xw2q_Fzp",
        "outputId": "9014bd57-c894-4ed1-caa5-35216ba856a4"
      },
      "execution_count": null,
      "outputs": [
        {
          "output_type": "execute_result",
          "data": {
            "text/plain": [
              "<matplotlib.axes._subplots.AxesSubplot at 0x7f327a934190>"
            ]
          },
          "metadata": {},
          "execution_count": 8
        },
        {
          "output_type": "display_data",
          "data": {
            "text/plain": [
              "<Figure size 432x288 with 1 Axes>"
            ],
            "image/png": "[encoded data removed]"
          },
          "metadata": {
            "needs_background": "light"
          }
        }
      ]
    },
    {
      "cell_type": "code",
      "source": [
        "def kmeans(df,epochs = 5,k = 2):\n",
        "    descenso = np.array([])\n",
        "    tamaño = len(df)\n",
        "    \n",
        "    #Tomamos posición del DF para nuestro k iniciales aleatoriamente.\n",
        "    posicionRadom = np.random.choice(range(0, tamaño-1), k)\n",
        "    \n",
        "    listk = np.array([df[i] for i in posicionRadom])\n",
        "   \n",
        "    for i in range(epochs):\n",
        "        # (x-x*)  (y - y*)\n",
        "        #Realizamos difrencias de todos las datos con los centroides seleccionados\n",
        "        diff = df[:,None]- listk\n",
        "\n",
        "        # (x-x*)^2 + (y - y*)^2  para luego obtener distancia eculidiana\n",
        "        sumcuadrado = np.sum(np.square(diff),axis=2)\n",
        "\n",
        "        # distancia euclidiana \n",
        "        dis_euc = np.sqrt(sumcuadrado)\n",
        "\n",
        "        # seleccion del k con la distancia mas cercana\n",
        "        assi_k = np.argmin(dis_euc,axis=1)\n",
        "        #obtenemos todos los minios de cada iteración para validar en donde converge\n",
        "        descenso = np.append(descenso,sum(np.min(dis_euc,axis=1))/tamaño)\n",
        "        for i in range(k):\n",
        "          \n",
        "            #creamos grupo por cada k->centroide\n",
        "            subgrupo = df[assi_k==i]\n",
        "            #obtenemos el promedio de cada grupo para el nuevo centroide\n",
        "            listk[i] = np.average(subgrupo,axis=0)\n",
        "    \n",
        "    return (listk,assi_k,descenso)"
      ],
      "metadata": {
        "id": "jPgssqmXCWj2"
      },
      "execution_count": null,
      "outputs": []
    },
    {
      "cell_type": "code",
      "source": [
        "ks,assi_centroide,descenso = kmeans(datos.to_numpy(), epochs = 10,k = 4)\n"
      ],
      "metadata": {
        "id": "dF9jW3vPCYQK"
      },
      "execution_count": null,
      "outputs": []
    },
    {
      "cell_type": "code",
      "source": [
        "datos.count()"
      ],
      "metadata": {
        "colab": {
          "base_uri": "https://localhost:8080/"
        },
        "id": "L15pPNEYF1PW",
        "outputId": "5962da56-530d-4066-ebe0-d66131f22fb6"
      },
      "execution_count": null,
      "outputs": [
        {
          "output_type": "execute_result",
          "data": {
            "text/plain": [
              "Estatura(metros)    53\n",
              "Edad(años)          53\n",
              "dtype: int64"
            ]
          },
          "metadata": {},
          "execution_count": 11
        }
      ]
    },
    {
      "cell_type": "code",
      "source": [
        "datos['k'] =assi_centroide\n",
        "sns.scatterplot(x=\"Edad(años)\", y=\"Estatura(metros)\",  palette=\"Set1\",s=80,\n",
        "                     hue=\"k\", data=datos)\n",
        "\n",
        "sns.scatterplot(x=ks[:,1], y=ks[:,0],  marker=\"X\",s=100)"
      ],
      "metadata": {
        "colab": {
          "base_uri": "https://localhost:8080/",
          "height": 296
        },
        "id": "yDRLoOJbEHaN",
        "outputId": "cdd67ed4-a8e3-49a9-ffce-d921cf2356c7"
      },
      "execution_count": null,
      "outputs": [
        {
          "output_type": "execute_result",
          "data": {
            "text/plain": [
              "<matplotlib.axes._subplots.AxesSubplot at 0x7f327a853c50>"
            ]
          },
          "metadata": {},
          "execution_count": 12
        },
        {
          "output_type": "display_data",
          "data": {
            "text/plain": [
              "<Figure size 432x288 with 1 Axes>"
            ],
            "image/png": "[encoded data removed]"
          },
          "metadata": {
            "needs_background": "light"
          }
        }
      ]
    },
    {
      "cell_type": "markdown",
      "source": [
        "Escalado de los datos para que esten de 0 a 1, y ver si mejoramos el cluster"
      ],
      "metadata": {
        "id": "GEslpFt2-ku4"
      }
    },
    {
      "cell_type": "code",
      "source": [
        "data_esca = (data_base - np.min(data_base, axis =0))/(np.max(data_base, axis=0) - np.min(data_base,axis=0))"
      ],
      "metadata": {
        "id": "c_3DaBu--W0B"
      },
      "execution_count": null,
      "outputs": []
    },
    {
      "cell_type": "code",
      "source": [
        "data_esca"
      ],
      "metadata": {
        "colab": {
          "base_uri": "https://localhost:8080/",
          "height": 1000
        },
        "id": "rxw0nILoBFW1",
        "outputId": "97c109e6-2deb-40c2-b62d-ce50909cde15"
      },
      "execution_count": null,
      "outputs": [
        {
          "output_type": "execute_result",
          "data": {
            "text/plain": [
              "    Estatura(metros)  Edad(años)\n",
              "0           0.628571     0.15625\n",
              "1           0.542857     0.31250\n",
              "2           0.485714     0.09375\n",
              "3           0.657143     0.40625\n",
              "4           0.285714     0.34375\n",
              "5           0.314286     0.25000\n",
              "6           0.257143     0.18750\n",
              "7           0.857143     0.40625\n",
              "8           0.857143     0.15625\n",
              "9           0.571429     0.00000\n",
              "10          0.514286     0.06250\n",
              "11          0.685714     0.12500\n",
              "12          0.771429     0.09375\n",
              "13          0.285714     0.12500\n",
              "14          0.685714     0.12500\n",
              "15          0.485714     0.40625\n",
              "16          0.428571     0.15625\n",
              "17          0.057143     0.12500\n",
              "18          0.314286     0.15625\n",
              "19          0.571429     0.18750\n",
              "20          0.628571     0.34375\n",
              "21          0.714286     0.59375\n",
              "22          0.857143     0.12500\n",
              "23          0.771429     0.09375\n",
              "24          0.571429     0.53125\n",
              "25          0.514286     0.40625\n",
              "26          0.000000     0.25000\n",
              "27          0.600000     0.21875\n",
              "28          0.371429     0.18750\n",
              "29          0.285714     0.28125\n",
              "30          0.485714     0.15625\n",
              "31          1.000000     0.09375\n",
              "32          0.542857     0.40625\n",
              "33          0.514286     0.37500\n",
              "34          0.800000     1.00000\n",
              "35          0.285714     0.21875\n",
              "36          0.514286     0.09375\n",
              "37          0.514286     0.03125\n",
              "38          0.514286     0.06250\n",
              "39          0.285714     0.68750\n",
              "40          0.485714     0.15625\n",
              "41          0.228571     0.31250\n",
              "42          0.514286     0.43750\n",
              "43          0.857143     0.87500\n",
              "44          0.457143     0.21875\n",
              "45          0.428571     0.21875\n",
              "46          0.371429     0.43750\n",
              "47          0.228571     0.12500\n",
              "48          0.257143     0.56250\n",
              "49          0.428571     0.37500\n",
              "50          0.285714     0.31250\n",
              "51          0.371429     0.40625\n",
              "52          0.457143     0.25000"
            ],
            "text/html": [
              "\n",
              "  <div id=\"df-c5f8c56a-24c9-4517-a63e-76bfd087f741\">\n",
              "    <div class=\"colab-df-container\">\n",
              "      <div>\n",
              "<style scoped>\n",
              "    .dataframe tbody tr th:only-of-type {\n",
              "        vertical-align: middle;\n",
              "    }\n",
              "\n",
              "    .dataframe tbody tr th {\n",
              "        vertical-align: top;\n",
              "    }\n",
              "\n",
              "    .dataframe thead th {\n",
              "        text-align: right;\n",
              "    }\n",
              "</style>\n",
              "<table border=\"1\" class=\"dataframe\">\n",
              "  <thead>\n",
              "    <tr style=\"text-align: right;\">\n",
              "      <th></th>\n",
              "      <th>Estatura(metros)</th>\n",
              "      <th>Edad(años)</th>\n",
              "    </tr>\n",
              "  </thead>\n",
              "  <tbody>\n",
              "    <tr>\n",
              "      <th>0</th>\n",
              "      <td>0.628571</td>\n",
              "      <td>0.15625</td>\n",
              "    </tr>\n",
              "    <tr>\n",
              "      <th>1</th>\n",
              "      <td>0.542857</td>\n",
              "      <td>0.31250</td>\n",
              "    </tr>\n",
              "    <tr>\n",
              "      <th>2</th>\n",
              "      <td>0.485714</td>\n",
              "      <td>0.09375</td>\n",
              "    </tr>\n",
              "    <tr>\n",
              "      <th>3</th>\n",
              "      <td>0.657143</td>\n",
              "      <td>0.40625</td>\n",
              "    </tr>\n",
              "    <tr>\n",
              "      <th>4</th>\n",
              "      <td>0.285714</td>\n",
              "      <td>0.34375</td>\n",
              "    </tr>\n",
              "    <tr>\n",
              "      <th>5</th>\n",
              "      <td>0.314286</td>\n",
              "      <td>0.25000</td>\n",
              "    </tr>\n",
              "    <tr>\n",
              "      <th>6</th>\n",
              "      <td>0.257143</td>\n",
              "      <td>0.18750</td>\n",
              "    </tr>\n",
              "    <tr>\n",
              "      <th>7</th>\n",
              "      <td>0.857143</td>\n",
              "      <td>0.40625</td>\n",
              "    </tr>\n",
              "    <tr>\n",
              "      <th>8</th>\n",
              "      <td>0.857143</td>\n",
              "      <td>0.15625</td>\n",
              "    </tr>\n",
              "    <tr>\n",
              "      <th>9</th>\n",
              "      <td>0.571429</td>\n",
              "      <td>0.00000</td>\n",
              "    </tr>\n",
              "    <tr>\n",
              "      <th>10</th>\n",
              "      <td>0.514286</td>\n",
              "      <td>0.06250</td>\n",
              "    </tr>\n",
              "    <tr>\n",
              "      <th>11</th>\n",
              "      <td>0.685714</td>\n",
              "      <td>0.12500</td>\n",
              "    </tr>\n",
              "    <tr>\n",
              "      <th>12</th>\n",
              "      <td>0.771429</td>\n",
              "      <td>0.09375</td>\n",
              "    </tr>\n",
              "    <tr>\n",
              "      <th>13</th>\n",
              "      <td>0.285714</td>\n",
              "      <td>0.12500</td>\n",
              "    </tr>\n",
              "    <tr>\n",
              "      <th>14</th>\n",
              "      <td>0.685714</td>\n",
              "      <td>0.12500</td>\n",
              "    </tr>\n",
              "    <tr>\n",
              "      <th>15</th>\n",
              "      <td>0.485714</td>\n",
              "      <td>0.40625</td>\n",
              "    </tr>\n",
              "    <tr>\n",
              "      <th>16</th>\n",
              "      <td>0.428571</td>\n",
              "      <td>0.15625</td>\n",
              "    </tr>\n",
              "    <tr>\n",
              "      <th>17</th>\n",
              "      <td>0.057143</td>\n",
              "      <td>0.12500</td>\n",
              "    </tr>\n",
              "    <tr>\n",
              "      <th>18</th>\n",
              "      <td>0.314286</td>\n",
              "      <td>0.15625</td>\n",
              "    </tr>\n",
              "    <tr>\n",
              "      <th>19</th>\n",
              "      <td>0.571429</td>\n",
              "      <td>0.18750</td>\n",
              "    </tr>\n",
              "    <tr>\n",
              "      <th>20</th>\n",
              "      <td>0.628571</td>\n",
              "      <td>0.34375</td>\n",
              "    </tr>\n",
              "    <tr>\n",
              "      <th>21</th>\n",
              "      <td>0.714286</td>\n",
              "      <td>0.59375</td>\n",
              "    </tr>\n",
              "    <tr>\n",
              "      <th>22</th>\n",
              "      <td>0.857143</td>\n",
              "      <td>0.12500</td>\n",
              "    </tr>\n",
              "    <tr>\n",
              "      <th>23</th>\n",
              "      <td>0.771429</td>\n",
              "      <td>0.09375</td>\n",
              "    </tr>\n",
              "    <tr>\n",
              "      <th>24</th>\n",
              "      <td>0.571429</td>\n",
              "      <td>0.53125</td>\n",
              "    </tr>\n",
              "    <tr>\n",
              "      <th>25</th>\n",
              "      <td>0.514286</td>\n",
              "      <td>0.40625</td>\n",
              "    </tr>\n",
              "    <tr>\n",
              "      <th>26</th>\n",
              "      <td>0.000000</td>\n",
              "      <td>0.25000</td>\n",
              "    </tr>\n",
              "    <tr>\n",
              "      <th>27</th>\n",
              "      <td>0.600000</td>\n",
              "      <td>0.21875</td>\n",
              "    </tr>\n",
              "    <tr>\n",
              "      <th>28</th>\n",
              "      <td>0.371429</td>\n",
              "      <td>0.18750</td>\n",
              "    </tr>\n",
              "    <tr>\n",
              "      <th>29</th>\n",
              "      <td>0.285714</td>\n",
              "      <td>0.28125</td>\n",
              "    </tr>\n",
              "    <tr>\n",
              "      <th>30</th>\n",
              "      <td>0.485714</td>\n",
              "      <td>0.15625</td>\n",
              "    </tr>\n",
              "    <tr>\n",
              "      <th>31</th>\n",
              "      <td>1.000000</td>\n",
              "      <td>0.09375</td>\n",
              "    </tr>\n",
              "    <tr>\n",
              "      <th>32</th>\n",
              "      <td>0.542857</td>\n",
              "      <td>0.40625</td>\n",
              "    </tr>\n",
              "    <tr>\n",
              "      <th>33</th>\n",
              "      <td>0.514286</td>\n",
              "      <td>0.37500</td>\n",
              "    </tr>\n",
              "    <tr>\n",
              "      <th>34</th>\n",
              "      <td>0.800000</td>\n",
              "      <td>1.00000</td>\n",
              "    </tr>\n",
              "    <tr>\n",
              "      <th>35</th>\n",
              "      <td>0.285714</td>\n",
              "      <td>0.21875</td>\n",
              "    </tr>\n",
              "    <tr>\n",
              "      <th>36</th>\n",
              "      <td>0.514286</td>\n",
              "      <td>0.09375</td>\n",
              "    </tr>\n",
              "    <tr>\n",
              "      <th>37</th>\n",
              "      <td>0.514286</td>\n",
              "      <td>0.03125</td>\n",
              "    </tr>\n",
              "    <tr>\n",
              "      <th>38</th>\n",
              "      <td>0.514286</td>\n",
              "      <td>0.06250</td>\n",
              "    </tr>\n",
              "    <tr>\n",
              "      <th>39</th>\n",
              "      <td>0.285714</td>\n",
              "      <td>0.68750</td>\n",
              "    </tr>\n",
              "    <tr>\n",
              "      <th>40</th>\n",
              "      <td>0.485714</td>\n",
              "      <td>0.15625</td>\n",
              "    </tr>\n",
              "    <tr>\n",
              "      <th>41</th>\n",
              "      <td>0.228571</td>\n",
              "      <td>0.31250</td>\n",
              "    </tr>\n",
              "    <tr>\n",
              "      <th>42</th>\n",
              "      <td>0.514286</td>\n",
              "      <td>0.43750</td>\n",
              "    </tr>\n",
              "    <tr>\n",
              "      <th>43</th>\n",
              "      <td>0.857143</td>\n",
              "      <td>0.87500</td>\n",
              "    </tr>\n",
              "    <tr>\n",
              "      <th>44</th>\n",
              "      <td>0.457143</td>\n",
              "      <td>0.21875</td>\n",
              "    </tr>\n",
              "    <tr>\n",
              "      <th>45</th>\n",
              "      <td>0.428571</td>\n",
              "      <td>0.21875</td>\n",
              "    </tr>\n",
              "    <tr>\n",
              "      <th>46</th>\n",
              "      <td>0.371429</td>\n",
              "      <td>0.43750</td>\n",
              "    </tr>\n",
              "    <tr>\n",
              "      <th>47</th>\n",
              "      <td>0.228571</td>\n",
              "      <td>0.12500</td>\n",
              "    </tr>\n",
              "    <tr>\n",
              "      <th>48</th>\n",
              "      <td>0.257143</td>\n",
              "      <td>0.56250</td>\n",
              "    </tr>\n",
              "    <tr>\n",
              "      <th>49</th>\n",
              "      <td>0.428571</td>\n",
              "      <td>0.37500</td>\n",
              "    </tr>\n",
              "    <tr>\n",
              "      <th>50</th>\n",
              "      <td>0.285714</td>\n",
              "      <td>0.31250</td>\n",
              "    </tr>\n",
              "    <tr>\n",
              "      <th>51</th>\n",
              "      <td>0.371429</td>\n",
              "      <td>0.40625</td>\n",
              "    </tr>\n",
              "    <tr>\n",
              "      <th>52</th>\n",
              "      <td>0.457143</td>\n",
              "      <td>0.25000</td>\n",
              "    </tr>\n",
              "  </tbody>\n",
              "</table>\n",
              "</div>\n",
              "      <button class=\"colab-df-convert\" onclick=\"convertToInteractive('df-c5f8c56a-24c9-4517-a63e-76bfd087f741')\"\n",
              "              title=\"Convert this dataframe to an interactive table.\"\n",
              "              style=\"display:none;\">\n",
              "        \n",
              "  <svg xmlns=\"http://www.w3.org/2000/svg\" height=\"24px\"viewBox=\"0 0 24 24\"\n",
              "       width=\"24px\">\n",
              "    <path d=\"M0 0h24v24H0V0z\" fill=\"none\"/>\n",
              "    <path d=\"M18.56 5.44l.94 2.06.94-2.06 2.06-.94-2.06-.94-.94-2.06-.94 2.06-2.06.94zm-11 1L8.5 8.5l.94-2.06 2.06-.94-2.06-.94L8.5 2.5l-.94 2.06-2.06.94zm10 10l.94 2.06.94-2.06 2.06-.94-2.06-.94-.94-2.06-.94 2.06-2.06.94z\"/><path d=\"M17.41 7.96l-1.37-1.37c-.4-.4-.92-.59-1.43-.59-.52 0-1.04.2-1.43.59L10.3 9.45l-7.72 7.72c-.78.78-.78 2.05 0 2.83L4 21.41c.39.39.9.59 1.41.59.51 0 1.02-.2 1.41-.59l7.78-7.78 2.81-2.81c.8-.78.8-2.07 0-2.86zM5.41 20L4 18.59l7.72-7.72 1.47 1.35L5.41 20z\"/>\n",
              "  </svg>\n",
              "      </button>\n",
              "      \n",
              "  <style>\n",
              "    .colab-df-container {\n",
              "      display:flex;\n",
              "      flex-wrap:wrap;\n",
              "      gap: 12px;\n",
              "    }\n",
              "\n",
              "    .colab-df-convert {\n",
              "      background-color: #E8F0FE;\n",
              "      border: none;\n",
              "      border-radius: 50%;\n",
              "      cursor: pointer;\n",
              "      display: none;\n",
              "      fill: #1967D2;\n",
              "      height: 32px;\n",
              "      padding: 0 0 0 0;\n",
              "      width: 32px;\n",
              "    }\n",
              "\n",
              "    .colab-df-convert:hover {\n",
              "      background-color: #E2EBFA;\n",
              "      box-shadow: 0px 1px 2px rgba(60, 64, 67, 0.3), 0px 1px 3px 1px rgba(60, 64, 67, 0.15);\n",
              "      fill: #174EA6;\n",
              "    }\n",
              "\n",
              "    [theme=dark] .colab-df-convert {\n",
              "      background-color: #3B4455;\n",
              "      fill: #D2E3FC;\n",
              "    }\n",
              "\n",
              "    [theme=dark] .colab-df-convert:hover {\n",
              "      background-color: #434B5C;\n",
              "      box-shadow: 0px 1px 3px 1px rgba(0, 0, 0, 0.15);\n",
              "      filter: drop-shadow(0px 1px 2px rgba(0, 0, 0, 0.3));\n",
              "      fill: #FFFFFF;\n",
              "    }\n",
              "  </style>\n",
              "\n",
              "      <script>\n",
              "        const buttonEl =\n",
              "          document.querySelector('#df-c5f8c56a-24c9-4517-a63e-76bfd087f741 button.colab-df-convert');\n",
              "        buttonEl.style.display =\n",
              "          google.colab.kernel.accessAllowed ? 'block' : 'none';\n",
              "\n",
              "        async function convertToInteractive(key) {\n",
              "          const element = document.querySelector('#df-c5f8c56a-24c9-4517-a63e-76bfd087f741');\n",
              "          const dataTable =\n",
              "            await google.colab.kernel.invokeFunction('convertToInteractive',\n",
              "                                                     [key], {});\n",
              "          if (!dataTable) return;\n",
              "\n",
              "          const docLinkHtml = 'Like what you see? Visit the ' +\n",
              "            '<a target=\"_blank\" href=https://colab.research.google.com/notebooks/data_table.ipynb>data table notebook</a>'\n",
              "            + ' to learn more about interactive tables.';\n",
              "          element.innerHTML = '';\n",
              "          dataTable['output_type'] = 'display_data';\n",
              "          await google.colab.output.renderOutput(dataTable, element);\n",
              "          const docLink = document.createElement('div');\n",
              "          docLink.innerHTML = docLinkHtml;\n",
              "          element.appendChild(docLink);\n",
              "        }\n",
              "      </script>\n",
              "    </div>\n",
              "  </div>\n",
              "  "
            ]
          },
          "metadata": {},
          "execution_count": 14
        }
      ]
    },
    {
      "cell_type": "markdown",
      "source": [
        "**Pruebas**"
      ],
      "metadata": {
        "id": "XBdO6pLdp4pu"
      }
    },
    {
      "cell_type": "markdown",
      "source": [
        "**K = 6**"
      ],
      "metadata": {
        "id": "5qVGJP00p72t"
      }
    },
    {
      "cell_type": "code",
      "source": [
        "ks,assi_centroide,descenso = kmeans(datos.to_numpy(), epochs = 10,k = 6)"
      ],
      "metadata": {
        "id": "hQmYoFXvPCkJ"
      },
      "execution_count": null,
      "outputs": []
    },
    {
      "cell_type": "code",
      "source": [
        "plt.plot(descenso)"
      ],
      "metadata": {
        "colab": {
          "base_uri": "https://localhost:8080/",
          "height": 282
        },
        "id": "KyxA1B9EuBC8",
        "outputId": "53c03113-abbf-4ad2-8dbe-ef290469df0a"
      },
      "execution_count": null,
      "outputs": [
        {
          "output_type": "execute_result",
          "data": {
            "text/plain": [
              "[<matplotlib.lines.Line2D at 0x7f3273a51f50>]"
            ]
          },
          "metadata": {},
          "execution_count": 56
        },
        {
          "output_type": "display_data",
          "data": {
            "text/plain": [
              "<Figure size 432x288 with 1 Axes>"
            ],
            "image/png": "[encoded data removed]"
          },
          "metadata": {
            "needs_background": "light"
          }
        }
      ]
    },
    {
      "cell_type": "code",
      "source": [
        "datos['k'] =assi_centroide\n",
        "sns.scatterplot(x=\"Edad(años)\", y=\"Estatura(metros)\",  palette=\"Set1\",s=80,\n",
        "                     hue=\"k\", data=datos)\n",
        "\n",
        "sns.scatterplot(x=ks[:,1], y=ks[:,0],  marker=\"X\",s=100)"
      ],
      "metadata": {
        "colab": {
          "base_uri": "https://localhost:8080/",
          "height": 296
        },
        "id": "DSWjttp2PF3m",
        "outputId": "3aedbd4c-4947-45f2-e535-89cc93be4542"
      },
      "execution_count": null,
      "outputs": [
        {
          "output_type": "execute_result",
          "data": {
            "text/plain": [
              "<matplotlib.axes._subplots.AxesSubplot at 0x7f327a290dd0>"
            ]
          },
          "metadata": {},
          "execution_count": 18
        },
        {
          "output_type": "display_data",
          "data": {
            "text/plain": [
              "<Figure size 432x288 with 1 Axes>"
            ],
            "image/png": "[encoded data removed]"
          },
          "metadata": {
            "needs_background": "light"
          }
        }
      ]
    },
    {
      "cell_type": "markdown",
      "source": [
        "**K = 5**"
      ],
      "metadata": {
        "id": "SW84jX5IqECn"
      }
    },
    {
      "cell_type": "code",
      "source": [
        "ks,assi_centroide,descenso = kmeans(datos.to_numpy(), epochs = 6,k = 5)"
      ],
      "metadata": {
        "id": "j86bsfL_Ggxx"
      },
      "execution_count": null,
      "outputs": []
    },
    {
      "cell_type": "code",
      "source": [
        "datos['k'] =assi_centroide\n",
        "sns.scatterplot(x=\"Edad(años)\", y=\"Estatura(metros)\",  palette=\"Set1\",s=80,\n",
        "                     hue=\"k\", data=datos)\n",
        "\n",
        "sns.scatterplot(x=ks[:,1], y=ks[:,0],  marker=\"X\",s=100)"
      ],
      "metadata": {
        "colab": {
          "base_uri": "https://localhost:8080/",
          "height": 296
        },
        "id": "98PvDOWLG7FO",
        "outputId": "35e4630b-7649-46aa-920e-904213f7a559"
      },
      "execution_count": null,
      "outputs": [
        {
          "output_type": "execute_result",
          "data": {
            "text/plain": [
              "<matplotlib.axes._subplots.AxesSubplot at 0x7f327a22f190>"
            ]
          },
          "metadata": {},
          "execution_count": 21
        },
        {
          "output_type": "display_data",
          "data": {
            "text/plain": [
              "<Figure size 432x288 with 1 Axes>"
            ],
            "image/png": "[encoded data removed]"
          },
          "metadata": {
            "needs_background": "light"
          }
        }
      ]
    },
    {
      "cell_type": "markdown",
      "source": [
        "**K = 4**"
      ],
      "metadata": {
        "id": "PBYYbq-BqN1W"
      }
    },
    {
      "cell_type": "code",
      "source": [
        "ks,assi_centroide,descenso = kmeans(datos.to_numpy(), epochs = 6,k = 4)"
      ],
      "metadata": {
        "id": "uPsbSekxODIr"
      },
      "execution_count": null,
      "outputs": []
    },
    {
      "cell_type": "code",
      "source": [
        "datos['k'] =assi_centroide\n",
        "sns.scatterplot(x=\"Edad(años)\", y=\"Estatura(metros)\",  palette=\"Set1\",s=80,\n",
        "                     hue=\"k\", data=datos)\n",
        "\n",
        "sns.scatterplot(x=ks[:,1], y=ks[:,0],  marker=\"X\",s=100)"
      ],
      "metadata": {
        "colab": {
          "base_uri": "https://localhost:8080/",
          "height": 296
        },
        "id": "VGe3vtplOHMY",
        "outputId": "3de6ff2c-d908-4a7b-902f-985c27d2d62e"
      },
      "execution_count": null,
      "outputs": [
        {
          "output_type": "execute_result",
          "data": {
            "text/plain": [
              "<matplotlib.axes._subplots.AxesSubplot at 0x7f327a11bb10>"
            ]
          },
          "metadata": {},
          "execution_count": 23
        },
        {
          "output_type": "display_data",
          "data": {
            "text/plain": [
              "<Figure size 432x288 with 1 Axes>"
            ],
            "image/png": "[encoded data removed]"
          },
          "metadata": {
            "needs_background": "light"
          }
        }
      ]
    },
    {
      "cell_type": "markdown",
      "source": [
        "**K = 3**"
      ],
      "metadata": {
        "id": "bp6xvdrNqUjh"
      }
    },
    {
      "cell_type": "code",
      "source": [
        "ks,assi_centroide,descenso = kmeans(datos.to_numpy(), epochs = 6,k = 3)"
      ],
      "metadata": {
        "id": "lHoBnqyKOKg7"
      },
      "execution_count": null,
      "outputs": []
    },
    {
      "cell_type": "code",
      "source": [
        "datos['k'] =assi_centroide\n",
        "sns.scatterplot(x=\"Edad(años)\", y=\"Estatura(metros)\",  palette=\"Set1\",s=80,\n",
        "                     hue=\"k\", data=datos)\n",
        "\n",
        "sns.scatterplot(x=ks[:,1], y=ks[:,0],  marker=\"X\",s=100)"
      ],
      "metadata": {
        "colab": {
          "base_uri": "https://localhost:8080/",
          "height": 296
        },
        "id": "pSQxbus9OQvA",
        "outputId": "336a8aaf-c5f3-477f-caff-1669fd897457"
      },
      "execution_count": null,
      "outputs": [
        {
          "output_type": "execute_result",
          "data": {
            "text/plain": [
              "<matplotlib.axes._subplots.AxesSubplot at 0x7f327a0a8990>"
            ]
          },
          "metadata": {},
          "execution_count": 25
        },
        {
          "output_type": "display_data",
          "data": {
            "text/plain": [
              "<Figure size 432x288 with 1 Axes>"
            ],
            "image/png": "[encoded data removed]"
          },
          "metadata": {
            "needs_background": "light"
          }
        }
      ]
    },
    {
      "cell_type": "markdown",
      "source": [
        "**K = 2**"
      ],
      "metadata": {
        "id": "tvulGuS0qaMq"
      }
    },
    {
      "cell_type": "code",
      "source": [
        "ks,assi_centroide,descenso = kmeans(datos.to_numpy(), epochs = 6,k = 2)"
      ],
      "metadata": {
        "id": "_pXCkxKYOURY"
      },
      "execution_count": null,
      "outputs": []
    },
    {
      "cell_type": "code",
      "source": [
        "datos['k'] =assi_centroide\n",
        "sns.scatterplot(x=\"Edad(años)\", y=\"Estatura(metros)\",  palette=\"Set1\",s=80,\n",
        "                     hue=\"k\", data=datos)\n",
        "\n",
        "sns.scatterplot(x=ks[:,1], y=ks[:,0],  marker=\"X\",s=100)"
      ],
      "metadata": {
        "colab": {
          "base_uri": "https://localhost:8080/",
          "height": 296
        },
        "id": "IjpAwtujOZL8",
        "outputId": "670f459d-e46f-4071-8dd7-2367519cbcdc"
      },
      "execution_count": null,
      "outputs": [
        {
          "output_type": "execute_result",
          "data": {
            "text/plain": [
              "<matplotlib.axes._subplots.AxesSubplot at 0x7f3279fc9590>"
            ]
          },
          "metadata": {},
          "execution_count": 27
        },
        {
          "output_type": "display_data",
          "data": {
            "text/plain": [
              "<Figure size 432x288 with 1 Axes>"
            ],
            "image/png": "[encoded data removed]"
          },
          "metadata": {
            "needs_background": "light"
          }
        }
      ]
    },
    {
      "cell_type": "markdown",
      "source": [
        "**GMM**"
      ],
      "metadata": {
        "id": "UnQgByY-zW_c"
      }
    },
    {
      "cell_type": "code",
      "source": [
        "datos_arr = datos.to_numpy()"
      ],
      "metadata": {
        "id": "IaAL8YopmAg8"
      },
      "execution_count": null,
      "outputs": []
    },
    {
      "cell_type": "code",
      "source": [
        "gmm = GaussianMixture(n_components=5).fit(datos.to_numpy())\n",
        "k_gmm = gmm.predict(datos.to_numpy())\n"
      ],
      "metadata": {
        "id": "f6D1Q2tqzaGe"
      },
      "execution_count": null,
      "outputs": []
    },
    {
      "cell_type": "code",
      "source": [
        "sns.scatterplot(x=datos_arr[:,1], y =datos_arr[:,0], hue=k_gmm, palette=\"Set1\", s=80)"
      ],
      "metadata": {
        "colab": {
          "base_uri": "https://localhost:8080/",
          "height": 282
        },
        "id": "8IAwnKz1mzqu",
        "outputId": "4f80591c-7595-42e1-ba3f-840fe33e5a04"
      },
      "execution_count": null,
      "outputs": [
        {
          "output_type": "execute_result",
          "data": {
            "text/plain": [
              "<matplotlib.axes._subplots.AxesSubplot at 0x7f3273f49610>"
            ]
          },
          "metadata": {},
          "execution_count": 43
        },
        {
          "output_type": "display_data",
          "data": {
            "text/plain": [
              "<Figure size 432x288 with 1 Axes>"
            ],
            "image/png": "[encoded data removed]"
          },
          "metadata": {
            "needs_background": "light"
          }
        }
      ]
    },
    {
      "cell_type": "markdown",
      "source": [
        "**K = 4**"
      ],
      "metadata": {
        "id": "eBMO8l6ypBud"
      }
    },
    {
      "cell_type": "code",
      "source": [
        "gmm = GaussianMixture(n_components=4).fit(datos.to_numpy())\n",
        "k_gmm = gmm.predict(datos.to_numpy())\n",
        "sns.scatterplot(x=datos_arr[:,1], y =datos_arr[:,0], hue=k_gmm, palette=\"Set1\", s=80)"
      ],
      "metadata": {
        "colab": {
          "base_uri": "https://localhost:8080/",
          "height": 282
        },
        "id": "hNwDEEHvo4e-",
        "outputId": "9b8dfaa3-f232-495f-9f76-722cd464b8d5"
      },
      "execution_count": null,
      "outputs": [
        {
          "output_type": "execute_result",
          "data": {
            "text/plain": [
              "<matplotlib.axes._subplots.AxesSubplot at 0x7f3273de2490>"
            ]
          },
          "metadata": {},
          "execution_count": 45
        },
        {
          "output_type": "display_data",
          "data": {
            "text/plain": [
              "<Figure size 432x288 with 1 Axes>"
            ],
            "image/png": "[encoded data removed]"
          },
          "metadata": {
            "needs_background": "light"
          }
        }
      ]
    },
    {
      "cell_type": "markdown",
      "source": [
        "**K=3**"
      ],
      "metadata": {
        "id": "ej84KgglpZYl"
      }
    },
    {
      "cell_type": "code",
      "source": [
        "gmm = GaussianMixture(n_components=3).fit(datos.to_numpy())\n",
        "k_gmm = gmm.predict(datos.to_numpy())\n",
        "sns.scatterplot(x=datos_arr[:,1], y =datos_arr[:,0], hue=k_gmm, palette=\"Set1\", s=80)"
      ],
      "metadata": {
        "colab": {
          "base_uri": "https://localhost:8080/",
          "height": 282
        },
        "id": "8gwXYRP-pbf6",
        "outputId": "bf386b66-2e5f-43fc-fc46-ad72a5788084"
      },
      "execution_count": null,
      "outputs": [
        {
          "output_type": "execute_result",
          "data": {
            "text/plain": [
              "<matplotlib.axes._subplots.AxesSubplot at 0x7f3273d74450>"
            ]
          },
          "metadata": {},
          "execution_count": 46
        },
        {
          "output_type": "display_data",
          "data": {
            "text/plain": [
              "<Figure size 432x288 with 1 Axes>"
            ],
            "image/png": "[encoded data removed]"
          },
          "metadata": {
            "needs_background": "light"
          }
        }
      ]
    },
    {
      "cell_type": "markdown",
      "source": [
        "**K = 2**"
      ],
      "metadata": {
        "id": "PJ-M4gTDpfFa"
      }
    },
    {
      "cell_type": "code",
      "source": [
        "gmm = GaussianMixture(n_components=2).fit(datos.to_numpy())\n",
        "k_gmm = gmm.predict(datos.to_numpy())\n",
        "sns.scatterplot(x=datos_arr[:,1], y =datos_arr[:,0], hue=k_gmm, palette=\"Set1\", s=80)"
      ],
      "metadata": {
        "colab": {
          "base_uri": "https://localhost:8080/",
          "height": 282
        },
        "id": "7jVRj5Z9phE2",
        "outputId": "de91306e-7500-4f1c-d3db-561b8aacd017"
      },
      "execution_count": null,
      "outputs": [
        {
          "output_type": "execute_result",
          "data": {
            "text/plain": [
              "<matplotlib.axes._subplots.AxesSubplot at 0x7f3273cf2810>"
            ]
          },
          "metadata": {},
          "execution_count": 47
        },
        {
          "output_type": "display_data",
          "data": {
            "text/plain": [
              "<Figure size 432x288 with 1 Axes>"
            ],
            "image/png": "[encoded data removed]"
          },
          "metadata": {
            "needs_background": "light"
          }
        }
      ]
    },
    {
      "cell_type": "markdown",
      "source": [
        "**Método del codo**"
      ],
      "metadata": {
        "id": "2Kco_LZpq4yj"
      }
    },
    {
      "cell_type": "markdown",
      "source": [
        "Con respecto al metodo de codo nos indica que los K al elegir sería entre 1,2 o 3, como vemos en la gráfica.\n",
        "\n",
        "\n",
        "![imagen.png](data:image/png;base64,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)"
      ],
      "metadata": {
        "id": "i9BC5vGSrA0f"
      }
    },
    {
      "cell_type": "markdown",
      "source": [
        "# Pestaña valtest(normales))"
      ],
      "metadata": {
        "id": "c-Co_5dx5cjP"
      }
    },
    {
      "cell_type": "code",
      "source": [
        "datos_2 = pd.read_excel('estaturas.xlsx',sheet_name=1)   #('estaturas.xlsx' )"
      ],
      "metadata": {
        "id": "yQJGrpHGrQNj"
      },
      "execution_count": null,
      "outputs": []
    },
    {
      "cell_type": "code",
      "source": [
        "datos_2"
      ],
      "metadata": {
        "colab": {
          "base_uri": "https://localhost:8080/",
          "height": 300
        },
        "id": "ag3cbLkD4koO",
        "outputId": "5ea852b3-9998-4a72-f061-7b9f5a144e50"
      },
      "execution_count": null,
      "outputs": [
        {
          "output_type": "execute_result",
          "data": {
            "text/plain": [
              "   Estatura(metros)  Edad(años)\n",
              "0              1.82        25.0\n",
              "1              1.80        27.0\n",
              "2              1.60        31.0\n",
              "3              1.60        35.0\n",
              "4              1.82        30.0\n",
              "5              1.76        32.0\n",
              "6              1.79        31.0\n",
              "7              1.61        31.0"
            ],
            "text/html": [
              "\n",
              "  <div id=\"df-6bdf75ab-fc8f-4c0c-ae22-04ac9ae2870d\">\n",
              "    <div class=\"colab-df-container\">\n",
              "      <div>\n",
              "<style scoped>\n",
              "    .dataframe tbody tr th:only-of-type {\n",
              "        vertical-align: middle;\n",
              "    }\n",
              "\n",
              "    .dataframe tbody tr th {\n",
              "        vertical-align: top;\n",
              "    }\n",
              "\n",
              "    .dataframe thead th {\n",
              "        text-align: right;\n",
              "    }\n",
              "</style>\n",
              "<table border=\"1\" class=\"dataframe\">\n",
              "  <thead>\n",
              "    <tr style=\"text-align: right;\">\n",
              "      <th></th>\n",
              "      <th>Estatura(metros)</th>\n",
              "      <th>Edad(años)</th>\n",
              "    </tr>\n",
              "  </thead>\n",
              "  <tbody>\n",
              "    <tr>\n",
              "      <th>0</th>\n",
              "      <td>1.82</td>\n",
              "      <td>25.0</td>\n",
              "    </tr>\n",
              "    <tr>\n",
              "      <th>1</th>\n",
              "      <td>1.80</td>\n",
              "      <td>27.0</td>\n",
              "    </tr>\n",
              "    <tr>\n",
              "      <th>2</th>\n",
              "      <td>1.60</td>\n",
              "      <td>31.0</td>\n",
              "    </tr>\n",
              "    <tr>\n",
              "      <th>3</th>\n",
              "      <td>1.60</td>\n",
              "      <td>35.0</td>\n",
              "    </tr>\n",
              "    <tr>\n",
              "      <th>4</th>\n",
              "      <td>1.82</td>\n",
              "      <td>30.0</td>\n",
              "    </tr>\n",
              "    <tr>\n",
              "      <th>5</th>\n",
              "      <td>1.76</td>\n",
              "      <td>32.0</td>\n",
              "    </tr>\n",
              "    <tr>\n",
              "      <th>6</th>\n",
              "      <td>1.79</td>\n",
              "      <td>31.0</td>\n",
              "    </tr>\n",
              "    <tr>\n",
              "      <th>7</th>\n",
              "      <td>1.61</td>\n",
              "      <td>31.0</td>\n",
              "    </tr>\n",
              "  </tbody>\n",
              "</table>\n",
              "</div>\n",
              "      <button class=\"colab-df-convert\" onclick=\"convertToInteractive('df-6bdf75ab-fc8f-4c0c-ae22-04ac9ae2870d')\"\n",
              "              title=\"Convert this dataframe to an interactive table.\"\n",
              "              style=\"display:none;\">\n",
              "        \n",
              "  <svg xmlns=\"http://www.w3.org/2000/svg\" height=\"24px\"viewBox=\"0 0 24 24\"\n",
              "       width=\"24px\">\n",
              "    <path d=\"M0 0h24v24H0V0z\" fill=\"none\"/>\n",
              "    <path d=\"M18.56 5.44l.94 2.06.94-2.06 2.06-.94-2.06-.94-.94-2.06-.94 2.06-2.06.94zm-11 1L8.5 8.5l.94-2.06 2.06-.94-2.06-.94L8.5 2.5l-.94 2.06-2.06.94zm10 10l.94 2.06.94-2.06 2.06-.94-2.06-.94-.94-2.06-.94 2.06-2.06.94z\"/><path d=\"M17.41 7.96l-1.37-1.37c-.4-.4-.92-.59-1.43-.59-.52 0-1.04.2-1.43.59L10.3 9.45l-7.72 7.72c-.78.78-.78 2.05 0 2.83L4 21.41c.39.39.9.59 1.41.59.51 0 1.02-.2 1.41-.59l7.78-7.78 2.81-2.81c.8-.78.8-2.07 0-2.86zM5.41 20L4 18.59l7.72-7.72 1.47 1.35L5.41 20z\"/>\n",
              "  </svg>\n",
              "      </button>\n",
              "      \n",
              "  <style>\n",
              "    .colab-df-container {\n",
              "      display:flex;\n",
              "      flex-wrap:wrap;\n",
              "      gap: 12px;\n",
              "    }\n",
              "\n",
              "    .colab-df-convert {\n",
              "      background-color: #E8F0FE;\n",
              "      border: none;\n",
              "      border-radius: 50%;\n",
              "      cursor: pointer;\n",
              "      display: none;\n",
              "      fill: #1967D2;\n",
              "      height: 32px;\n",
              "      padding: 0 0 0 0;\n",
              "      width: 32px;\n",
              "    }\n",
              "\n",
              "    .colab-df-convert:hover {\n",
              "      background-color: #E2EBFA;\n",
              "      box-shadow: 0px 1px 2px rgba(60, 64, 67, 0.3), 0px 1px 3px 1px rgba(60, 64, 67, 0.15);\n",
              "      fill: #174EA6;\n",
              "    }\n",
              "\n",
              "    [theme=dark] .colab-df-convert {\n",
              "      background-color: #3B4455;\n",
              "      fill: #D2E3FC;\n",
              "    }\n",
              "\n",
              "    [theme=dark] .colab-df-convert:hover {\n",
              "      background-color: #434B5C;\n",
              "      box-shadow: 0px 1px 3px 1px rgba(0, 0, 0, 0.15);\n",
              "      filter: drop-shadow(0px 1px 2px rgba(0, 0, 0, 0.3));\n",
              "      fill: #FFFFFF;\n",
              "    }\n",
              "  </style>\n",
              "\n",
              "      <script>\n",
              "        const buttonEl =\n",
              "          document.querySelector('#df-6bdf75ab-fc8f-4c0c-ae22-04ac9ae2870d button.colab-df-convert');\n",
              "        buttonEl.style.display =\n",
              "          google.colab.kernel.accessAllowed ? 'block' : 'none';\n",
              "\n",
              "        async function convertToInteractive(key) {\n",
              "          const element = document.querySelector('#df-6bdf75ab-fc8f-4c0c-ae22-04ac9ae2870d');\n",
              "          const dataTable =\n",
              "            await google.colab.kernel.invokeFunction('convertToInteractive',\n",
              "                                                     [key], {});\n",
              "          if (!dataTable) return;\n",
              "\n",
              "          const docLinkHtml = 'Like what you see? Visit the ' +\n",
              "            '<a target=\"_blank\" href=https://colab.research.google.com/notebooks/data_table.ipynb>data table notebook</a>'\n",
              "            + ' to learn more about interactive tables.';\n",
              "          element.innerHTML = '';\n",
              "          dataTable['output_type'] = 'display_data';\n",
              "          await google.colab.output.renderOutput(dataTable, element);\n",
              "          const docLink = document.createElement('div');\n",
              "          docLink.innerHTML = docLinkHtml;\n",
              "          element.appendChild(docLink);\n",
              "        }\n",
              "      </script>\n",
              "    </div>\n",
              "  </div>\n",
              "  "
            ]
          },
          "metadata": {},
          "execution_count": 59
        }
      ]
    },
    {
      "cell_type": "code",
      "source": [
        "ks,assi_centroide,descenso = kmeans(datos_2.to_numpy(), epochs = 10,k = 2)"
      ],
      "metadata": {
        "id": "N6CP1Zd14uca"
      },
      "execution_count": null,
      "outputs": []
    },
    {
      "cell_type": "code",
      "source": [
        "plt.plot(descenso)"
      ],
      "metadata": {
        "colab": {
          "base_uri": "https://localhost:8080/",
          "height": 282
        },
        "id": "lNbu9oTh6CF6",
        "outputId": "013c9313-b170-4986-cbc5-72ba09f200f9"
      },
      "execution_count": null,
      "outputs": [
        {
          "output_type": "execute_result",
          "data": {
            "text/plain": [
              "[<matplotlib.lines.Line2D at 0x7f32738774d0>]"
            ]
          },
          "metadata": {},
          "execution_count": 65
        },
        {
          "output_type": "display_data",
          "data": {
            "text/plain": [
              "<Figure size 432x288 with 1 Axes>"
            ],
            "image/png": "[encoded data removed]"
          },
          "metadata": {
            "needs_background": "light"
          }
        }
      ]
    },
    {
      "cell_type": "code",
      "source": [
        "datos_2['k'] =assi_centroide\n",
        "sns.scatterplot(x=\"Edad(años)\", y=\"Estatura(metros)\",  palette=\"Set1\",s=80,\n",
        "                     hue=\"k\", data=datos_2)\n",
        "\n",
        "sns.scatterplot(x=ks[:,1], y=ks[:,0],  marker=\"X\",s=100)"
      ],
      "metadata": {
        "colab": {
          "base_uri": "https://localhost:8080/",
          "height": 296
        },
        "id": "GnctCgGv5x7A",
        "outputId": "d7bb52e0-6f6c-4843-d031-32d6d972e70b"
      },
      "execution_count": null,
      "outputs": [
        {
          "output_type": "execute_result",
          "data": {
            "text/plain": [
              "<matplotlib.axes._subplots.AxesSubplot at 0x7f3273995cd0>"
            ]
          },
          "metadata": {},
          "execution_count": 62
        },
        {
          "output_type": "display_data",
          "data": {
            "text/plain": [
              "<Figure size 432x288 with 1 Axes>"
            ],
            "image/png": "[encoded data removed]"
          },
          "metadata": {
            "needs_background": "light"
          }
        }
      ]
    },
    {
      "cell_type": "markdown",
      "source": [
        "Según la gráfica de convergencia, para estos datos se necesitaria solo un K"
      ],
      "metadata": {
        "id": "1jTuclVn6Iln"
      }
    },
    {
      "cell_type": "markdown",
      "source": [
        "**Probabilidad de pertenecer a cada cluter GMM.**"
      ],
      "metadata": {
        "id": "DoBVSH0T-Tvo"
      }
    },
    {
      "cell_type": "code",
      "source": [
        "datos_arr_2 = datos_2.to_numpy()"
      ],
      "metadata": {
        "id": "BT0fa-AA-lgy"
      },
      "execution_count": null,
      "outputs": []
    },
    {
      "cell_type": "code",
      "source": [
        "gmm = GaussianMixture(n_components=2).fit(datos_2.to_numpy())\n",
        "k_gmm = gmm.predict(datos_2.to_numpy())\n",
        "sns.scatterplot(x=datos_arr_2[:,1], y =datos_arr_2[:,0], hue=k_gmm, palette=\"Set1\", s=80)"
      ],
      "metadata": {
        "colab": {
          "base_uri": "https://localhost:8080/",
          "height": 282
        },
        "id": "C5g7slel-gI6",
        "outputId": "3151e9b1-9d69-4e4d-ed72-5adbfcaf12c7"
      },
      "execution_count": null,
      "outputs": [
        {
          "output_type": "execute_result",
          "data": {
            "text/plain": [
              "<matplotlib.axes._subplots.AxesSubplot at 0x7f3273837b90>"
            ]
          },
          "metadata": {},
          "execution_count": 68
        },
        {
          "output_type": "display_data",
          "data": {
            "text/plain": [
              "<Figure size 432x288 with 1 Axes>"
            ],
            "image/png": "[encoded data removed]"
          },
          "metadata": {
            "needs_background": "light"
          }
        }
      ]
    },
    {
      "cell_type": "markdown",
      "source": [
        "**Conclusiones**"
      ],
      "metadata": {
        "id": "NaM-86ZVG-hH"
      }
    },
    {
      "cell_type": "markdown",
      "source": [
        "Respecto al Método del codo \n",
        "\n",
        "Con respecto al metodo de codo nos indica que los K al elegir sería entre 1,2 o 3, como vemos en la gráfica de covergencia.\n",
        "\n",
        "y Como podemos observar en las pruebas para estos datos lo ideal sería elejir do K"
      ],
      "metadata": {
        "id": "8JwpH3WnHQR8"
      }
    }
  ]
}