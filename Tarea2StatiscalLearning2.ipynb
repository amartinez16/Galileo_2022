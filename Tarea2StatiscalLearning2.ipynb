{
  "nbformat": 4,
  "nbformat_minor": 0,
  "metadata": {
    "colab": {
      "provenance": [],
      "collapsed_sections": []
    },
    "kernelspec": {
      "name": "python3",
      "display_name": "Python 3"
    },
    "language_info": {
      "name": "python"
    }
  },
  "cells": [
    {
      "cell_type": "markdown",
      "source": [
        "Luis Adolfo Martínez Ortiz\n",
        "Carné:\n",
        "**22000352** "
      ],
      "metadata": {
        "id": "l9tvEsN4K1Gr"
      }
    },
    {
      "cell_type": "markdown",
      "source": [
        "**Practica 2 AnomalyDetection**"
      ],
      "metadata": {
        "id": "QCVR36fC7L4u"
      }
    },
    {
      "cell_type": "code",
      "execution_count": null,
      "metadata": {
        "id": "cU89U_WlxbFq"
      },
      "outputs": [],
      "source": [
        "import numpy as np\n",
        "import pandas as pd\n",
        "import seaborn as sns\n",
        "from sklearn.mixture import GaussianMixture\n",
        "import random\n",
        "import matplotlib.pyplot as plt\n",
        "from scipy.stats import multivariate_normal\n",
        "from sklearn.metrics import f1_score"
      ]
    },
    {
      "cell_type": "code",
      "source": [
        "import os.path\n",
        "from os import path"
      ],
      "metadata": {
        "id": "iPtMSPlB3Yxx"
      },
      "execution_count": null,
      "outputs": []
    },
    {
      "cell_type": "code",
      "source": [
        "from google.colab import drive\n",
        "drive.mount('/content/drive')"
      ],
      "metadata": {
        "id": "yqjgQ6hXzguW",
        "colab": {
          "base_uri": "https://localhost:8080/"
        },
        "outputId": "5c0af6ef-8618-4d41-9659-7829992041e1"
      },
      "execution_count": null,
      "outputs": [
        {
          "output_type": "stream",
          "name": "stdout",
          "text": [
            "Drive already mounted at /content/drive; to attempt to forcibly remount, call drive.mount(\"/content/drive\", force_remount=True).\n"
          ]
        }
      ]
    },
    {
      "cell_type": "code",
      "source": [
        "direccion = \"/content/drive/MyDrive/TextMining/Archivos\"\n",
        "os.chdir(direccion)"
      ],
      "metadata": {
        "id": "BiRMsLT2zilX"
      },
      "execution_count": null,
      "outputs": []
    },
    {
      "cell_type": "code",
      "source": [
        "np.set_printoptions(suppress=True)"
      ],
      "metadata": {
        "id": "PHYGSanLOGao"
      },
      "execution_count": null,
      "outputs": []
    },
    {
      "cell_type": "code",
      "source": [
        "training_set = pd.read_excel('estaturas.xlsx', sheet_name=0) # datos normales \n",
        "data_tescros  = pd.read_excel('estaturas.xlsx',sheet_name=1)  # para cross-validation y testing\n",
        "data_anomalias = pd.read_excel('estaturas.xlsx', sheet_name=2)# anomalias"
      ],
      "metadata": {
        "id": "ZK7HfsOB-H9q"
      },
      "execution_count": null,
      "outputs": []
    },
    {
      "cell_type": "code",
      "source": [
        "data_anomalias['Edad'][:1]= 2.4\n",
        "data_anomalias['Edad'][:2]= 2.5\n",
        "\n",
        "data_anomalias['Edad']= data_anomalias['Edad'].astype(float)\n",
        "training_set.to_numpy()\n",
        "data_tescros.to_numpy()\n",
        "data_anomalias.to_numpy()"
      ],
      "metadata": {
        "colab": {
          "base_uri": "https://localhost:8080/"
        },
        "id": "L6JxZUFOioHS",
        "outputId": "14686cc6-fc0f-41d9-e26d-2a197b4166c0"
      },
      "execution_count": null,
      "outputs": [
        {
          "output_type": "stream",
          "name": "stderr",
          "text": [
            "/usr/local/lib/python3.7/dist-packages/ipykernel_launcher.py:1: SettingWithCopyWarning: \n",
            "A value is trying to be set on a copy of a slice from a DataFrame\n",
            "\n",
            "See the caveats in the documentation: https://pandas.pydata.org/pandas-docs/stable/user_guide/indexing.html#returning-a-view-versus-a-copy\n",
            "  \"\"\"Entry point for launching an IPython kernel.\n",
            "/usr/local/lib/python3.7/dist-packages/ipykernel_launcher.py:2: SettingWithCopyWarning: \n",
            "A value is trying to be set on a copy of a slice from a DataFrame\n",
            "\n",
            "See the caveats in the documentation: https://pandas.pydata.org/pandas-docs/stable/user_guide/indexing.html#returning-a-view-versus-a-copy\n",
            "  \n"
          ]
        },
        {
          "output_type": "execute_result",
          "data": {
            "text/plain": [
              "array([[  0.25,   2.5 ],\n",
              "       [175.1 ,   2.5 ],\n",
              "       [  0.15, 250.  ],\n",
              "       [150.  ,  14.  ]])"
            ]
          },
          "metadata": {},
          "execution_count": 8
        }
      ]
    },
    {
      "cell_type": "code",
      "source": [
        "prueb_y = np.zeros(len(data_tescros))\n",
        "anom_y  = np.ones(len(data_anomalias))"
      ],
      "metadata": {
        "id": "YQxlgk4PDP9L"
      },
      "execution_count": null,
      "outputs": []
    },
    {
      "cell_type": "code",
      "source": [
        "#print(data.dtypes)\n",
        "#data[['Estatura']]= data[['Estatura']].astype(float)"
      ],
      "metadata": {
        "id": "ut3-UwEPJ288"
      },
      "execution_count": null,
      "outputs": []
    },
    {
      "cell_type": "code",
      "source": [
        "data_anomalias_u = np.append(training_set,data_anomalias, axis=0)    #agregamos datos del training conel de anomalias\n",
        "data_test = np.append(training_set,data_tescros, axis=0)    #agregamos datos del training con el de test"
      ],
      "metadata": {
        "id": "xGbj9vP5EQbw"
      },
      "execution_count": null,
      "outputs": []
    },
    {
      "cell_type": "code",
      "source": [
        "def mediaCov(df):\n",
        "   me = np.mean(df,axis=0)\n",
        "   cov = np.cov(df.T)\n",
        "   return me, cov"
      ],
      "metadata": {
        "id": "Ebz6zeBDmkur"
      },
      "execution_count": null,
      "outputs": []
    },
    {
      "cell_type": "code",
      "source": [
        "def multivariateGaussian(df,me,cov):\n",
        "  #mu = np.mean(df,axis=0)\n",
        "  #sigma = np.cov(df.T)\n",
        "  p = multivariate_normal(mean=me, cov=cov)\n",
        "  return p.pdf(df)"
      ],
      "metadata": {
        "id": "cwYfSPqJrGz4"
      },
      "execution_count": null,
      "outputs": []
    },
    {
      "cell_type": "code",
      "source": [
        "def umbral(proba,arr):\n",
        "    best_epsilon = 0\n",
        "    best_f1 = 0\n",
        "    f = 0\n",
        "    stepsize = (max(proba) - min(proba)) / 2000\n",
        "    epsilons = np.arange(min(proba),max(proba),stepsize)\n",
        "    for epsilon in np.nditer(epsilons):\n",
        "        predictions = (proba < epsilon) \n",
        "        f = f1_score(arr, predictions,average='binary')\n",
        "        if f > best_f1:\n",
        "            best_f1 = f\n",
        "            best_epsilon = epsilon\n",
        "    return best_f1, best_epsilon"
      ],
      "metadata": {
        "id": "PoKXnp1Ir3RT"
      },
      "execution_count": null,
      "outputs": []
    },
    {
      "cell_type": "markdown",
      "source": [
        "Pruebas con datos **normales + valtest**"
      ],
      "metadata": {
        "id": "hevOJkUDsO04"
      }
    },
    {
      "cell_type": "code",
      "source": [
        "me, cov = mediaCov(data_test)\n",
        "p = multivariateGaussian(data_test,me,cov)\n"
      ],
      "metadata": {
        "id": "KJLC5BzRsOYx"
      },
      "execution_count": null,
      "outputs": []
    },
    {
      "cell_type": "code",
      "source": [
        "p_cv = multivariateGaussian(data_tescros,me,cov)\n",
        "fscore, ep = umbral(p_cv,prueb_y)"
      ],
      "metadata": {
        "colab": {
          "base_uri": "https://localhost:8080/"
        },
        "id": "9qqyJJhntPH9",
        "outputId": "9a55c3f7-009e-474a-f91f-35acdac1c5ac"
      },
      "execution_count": null,
      "outputs": [
        {
          "output_type": "stream",
          "name": "stderr",
          "text": [
            "/usr/local/lib/python3.7/dist-packages/sklearn/metrics/_classification.py:1580: UndefinedMetricWarning: F-score is ill-defined and being set to 0.0 due to no true nor predicted samples. Use `zero_division` parameter to control this behavior.\n",
            "  _warn_prf(average, \"true nor predicted\", \"F-score is\", len(true_sum))\n"
          ]
        }
      ]
    },
    {
      "cell_type": "code",
      "source": [
        "# seleccion de anomalias\n",
        "outliers = np.asarray(np.where(p < ep))\n",
        "outliers"
      ],
      "metadata": {
        "colab": {
          "base_uri": "https://localhost:8080/"
        },
        "id": "KzlyBq0EuTGG",
        "outputId": "4d2743de-6127-43a3-8a04-bb37049acaab"
      },
      "execution_count": null,
      "outputs": [
        {
          "output_type": "execute_result",
          "data": {
            "text/plain": [
              "array([], shape=(1, 0), dtype=int64)"
            ]
          },
          "metadata": {},
          "execution_count": 17
        }
      ]
    },
    {
      "cell_type": "code",
      "source": [
        "plt.figure()\n",
        "plt.plot(data_test[:,1],data_test[:,0],'bx')\n",
        "plt.plot(data_test[outliers,1],data_test[outliers,0],'ro')\n",
        "plt.show()\n",
        "# No hay anomilias"
      ],
      "metadata": {
        "colab": {
          "base_uri": "https://localhost:8080/",
          "height": 265
        },
        "id": "U6H7JDS1wp3F",
        "outputId": "93123535-2f16-43f4-fc9c-8e234d5e303c"
      },
      "execution_count": null,
      "outputs": [
        {
          "output_type": "display_data",
          "data": {
            "text/plain": [
              "<Figure size 432x288 with 1 Axes>"
            ],
            "image/png": "[encoded data removed]"
          },
          "metadata": {
            "needs_background": "light"
          }
        }
      ]
    },
    {
      "cell_type": "markdown",
      "source": [
        "**Pruebas conn datos Valtest(anomalias)**"
      ],
      "metadata": {
        "id": "xbEfOWMYwzWs"
      }
    },
    {
      "cell_type": "code",
      "source": [
        "me, cov = mediaCov(data_anomalias_u)\n",
        "resu = multivariateGaussian(data_anomalias_u,me,cov)"
      ],
      "metadata": {
        "id": "wVYNEvxmt0rr"
      },
      "execution_count": null,
      "outputs": []
    },
    {
      "cell_type": "code",
      "source": [
        "p_cv = multivariateGaussian(data_anomalias,me,cov)\n",
        "fscore, ep = umbral(p_cv,anom_y)\n",
        "\n",
        "print(ep)"
      ],
      "metadata": {
        "colab": {
          "base_uri": "https://localhost:8080/"
        },
        "id": "ShOU-DyAsOnS",
        "outputId": "d39c251b-4b84-4e86-f80a-5d6ace92699c"
      },
      "execution_count": null,
      "outputs": [
        {
          "output_type": "stream",
          "name": "stdout",
          "text": [
            "5.020587711702626e-08\n"
          ]
        }
      ]
    },
    {
      "cell_type": "code",
      "source": [
        "# seleccion de anomalias\n",
        "outliers = np.asarray(np.where(resu < ep))\n",
        "outliers"
      ],
      "metadata": {
        "colab": {
          "base_uri": "https://localhost:8080/"
        },
        "id": "HVtI2Kaw0-wW",
        "outputId": "c90c17f6-a9dc-4ee1-c749-d9f1f0d5a453"
      },
      "execution_count": null,
      "outputs": [
        {
          "output_type": "execute_result",
          "data": {
            "text/plain": [
              "array([[54, 55, 56]])"
            ]
          },
          "metadata": {},
          "execution_count": 21
        }
      ]
    },
    {
      "cell_type": "code",
      "source": [
        "plt.figure()\n",
        "plt.plot(data_anomalias_u[:,1],data_anomalias_u[:,0],'bx')\n",
        "plt.plot(data_anomalias_u[outliers,1],data_anomalias_u[outliers,0],'ro')\n",
        "plt.show()"
      ],
      "metadata": {
        "colab": {
          "base_uri": "https://localhost:8080/",
          "height": 265
        },
        "id": "9JH7ajzq1COJ",
        "outputId": "d6716b8b-77e2-472c-8fe8-85d54ef7ed71"
      },
      "execution_count": null,
      "outputs": [
        {
          "output_type": "display_data",
          "data": {
            "text/plain": [
              "<Figure size 432x288 with 1 Axes>"
            ],
            "image/png": "[encoded data removed]"
          },
          "metadata": {
            "needs_background": "light"
          }
        }
      ]
    },
    {
      "cell_type": "markdown",
      "source": [
        "**Anomalias :**"
      ],
      "metadata": {
        "id": "hdtUdJ0nLNvH"
      }
    },
    {
      "cell_type": "code",
      "source": [
        "data_anomalias_u[outliers]"
      ],
      "metadata": {
        "colab": {
          "base_uri": "https://localhost:8080/"
        },
        "id": "mNxvWPnX1U7T",
        "outputId": "46f27fe2-3903-4991-a061-951a4f559a66"
      },
      "execution_count": null,
      "outputs": [
        {
          "output_type": "execute_result",
          "data": {
            "text/plain": [
              "array([[[175.1 ,   2.5 ],\n",
              "        [  0.15, 250.  ],\n",
              "        [150.  ,  14.  ]]])"
            ]
          },
          "metadata": {},
          "execution_count": 23
        }
      ]
    },
    {
      "cell_type": "markdown",
      "source": [
        "**Conclusiones**\n",
        "\n",
        "Para obtener las anomalias del dataset resulto necesario entrenar nuestro modelo con datos normales sin anomalias y con datos que presentaban anomalias. Con esto logramos un modelo para la deteccion de datos anomalos."
      ],
      "metadata": {
        "id": "3rpnWDuNLHTR"
      }
    }
  ]
}