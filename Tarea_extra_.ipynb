{
  "nbformat": 4,
  "nbformat_minor": 0,
  "metadata": {
    "colab": {
      "provenance": [],
      "collapsed_sections": []
    },
    "kernelspec": {
      "name": "python3",
      "display_name": "Python 3"
    },
    "language_info": {
      "name": "python"
    }
  },
  "cells": [
    {
      "cell_type": "markdown",
      "source": [
        "Statistical Learning II\n",
        "Tarea opcional/extra \n",
        "Luis Adolfo Martínez\n",
        "Carné:\n",
        "**22000352** "
      ],
      "metadata": {
        "id": "_k9TotogvosB"
      }
    },
    {
      "cell_type": "code",
      "execution_count": 5,
      "metadata": {
        "id": "cU89U_WlxbFq"
      },
      "outputs": [],
      "source": [
        "import cv2\n",
        "import os\n",
        "import numpy as np\n",
        "import matplotlib.pyplot as plt\n",
        "from datetime import datetime\n",
        "import numpy as np"
      ]
    },
    {
      "cell_type": "code",
      "source": [
        "import os.path\n",
        "from os import path"
      ],
      "metadata": {
        "id": "iPtMSPlB3Yxx"
      },
      "execution_count": 2,
      "outputs": []
    },
    {
      "cell_type": "code",
      "source": [
        "from google.colab import drive\n",
        "drive.mount('/content/drive')"
      ],
      "metadata": {
        "id": "yqjgQ6hXzguW",
        "colab": {
          "base_uri": "https://localhost:8080/"
        },
        "outputId": "287400a0-9d8a-4e90-c9c8-f5a0eb9c9ae4"
      },
      "execution_count": 3,
      "outputs": [
        {
          "output_type": "stream",
          "name": "stdout",
          "text": [
            "Mounted at /content/drive\n"
          ]
        }
      ]
    },
    {
      "cell_type": "code",
      "source": [
        "direccion = \"/content/drive/MyDrive/TextMining/Archivos\"\n",
        "os.chdir(direccion)"
      ],
      "metadata": {
        "id": "BiRMsLT2zilX"
      },
      "execution_count": 4,
      "outputs": []
    },
    {
      "cell_type": "markdown",
      "source": [
        "**XOR**"
      ],
      "metadata": {
        "id": "e4X2ualkmBvc"
      }
    },
    {
      "cell_type": "code",
      "source": [
        "def vnot_1(x):\n",
        "    b = np.ones(x.shape)\n",
        "    b = np.vstack((x,b)).astype(int)\n",
        "    a = np.array([[-1,1]])\n",
        "    c = np.matmul(a,b)\n",
        "    return c"
      ],
      "metadata": {
        "id": "M6X9SdnvmA6d"
      },
      "execution_count": 6,
      "outputs": []
    },
    {
      "cell_type": "code",
      "source": [
        "def vnot(x):\n",
        "    return (x == 0).astype(int)"
      ],
      "metadata": {
        "id": "0dBudRk-mTRr"
      },
      "execution_count": 7,
      "outputs": []
    },
    {
      "cell_type": "code",
      "source": [
        "test = np.array([1,0,1,0,0,0,0,1,1,1,])\n",
        "print(vnot_1(test))\n",
        "print(vnot(test))"
      ],
      "metadata": {
        "colab": {
          "base_uri": "https://localhost:8080/"
        },
        "id": "fgPKXDOBmVmK",
        "outputId": "873e7044-e434-4035-efc0-ec4f7b904228"
      },
      "execution_count": 8,
      "outputs": [
        {
          "output_type": "stream",
          "name": "stdout",
          "text": [
            "[[0 1 0 1 1 1 1 0 0 0]]\n",
            "[0 1 0 1 1 1 1 0 0 0]\n"
          ]
        }
      ]
    },
    {
      "cell_type": "code",
      "source": [
        "def vand(x1, x2):\n",
        "    return np.int_((x1 + x2)> 1)"
      ],
      "metadata": {
        "id": "idYi_SZvmXNl"
      },
      "execution_count": 9,
      "outputs": []
    },
    {
      "cell_type": "code",
      "source": [
        "test1= np.array([1,1,0,0])\n",
        "test2= np.array([0,1,0,1])\n",
        "\n",
        "vand(test1, test2)\n"
      ],
      "metadata": {
        "colab": {
          "base_uri": "https://localhost:8080/"
        },
        "id": "C0kQrU2AmZNb",
        "outputId": "b8a66fa6-a302-4c1c-f6f0-3ed6bf2a8d0c"
      },
      "execution_count": 10,
      "outputs": [
        {
          "output_type": "execute_result",
          "data": {
            "text/plain": [
              "array([0, 1, 0, 0])"
            ]
          },
          "metadata": {},
          "execution_count": 10
        }
      ]
    },
    {
      "cell_type": "code",
      "source": [
        "def vor(x1,x2):\n",
        "    return np.int_((x1 + x2)>= 1)"
      ],
      "metadata": {
        "id": "bRim4kMjmc7p"
      },
      "execution_count": 11,
      "outputs": []
    },
    {
      "cell_type": "code",
      "source": [
        "test1= np.array([1,1,0,0])\n",
        "test2= np.array([0,1,0,1])\n",
        "\n",
        "vor(test1, test2)"
      ],
      "metadata": {
        "colab": {
          "base_uri": "https://localhost:8080/"
        },
        "id": "sZBYanGJmc-u",
        "outputId": "35e97134-2f5e-4a8a-b7b4-f75a62ab5329"
      },
      "execution_count": 12,
      "outputs": [
        {
          "output_type": "execute_result",
          "data": {
            "text/plain": [
              "array([1, 1, 0, 1])"
            ]
          },
          "metadata": {},
          "execution_count": 12
        }
      ]
    },
    {
      "cell_type": "code",
      "source": [
        "def vxor(x1,x2):\n",
        "    and1 = vand(x1,x2)\n",
        "    or1 = vor(x1,x2)\n",
        "    \n",
        "    nand1 = vnot(and1)\n",
        "    salida = vand(nand1,or1)\n",
        "    return salida"
      ],
      "metadata": {
        "id": "gk-DQWXxmdBm"
      },
      "execution_count": 13,
      "outputs": []
    },
    {
      "cell_type": "code",
      "source": [
        "test1= np.array([1,1,0,0])\n",
        "test2= np.array([0,1,0,1])\n",
        "\n",
        "vxor(test1, test2)"
      ],
      "metadata": {
        "colab": {
          "base_uri": "https://localhost:8080/"
        },
        "id": "XhXK5332mjJg",
        "outputId": "728e7201-38b3-4704-98ab-3ae16140a89c"
      },
      "execution_count": 14,
      "outputs": [
        {
          "output_type": "execute_result",
          "data": {
            "text/plain": [
              "array([1, 0, 0, 1])"
            ]
          },
          "metadata": {},
          "execution_count": 14
        }
      ]
    },
    {
      "cell_type": "markdown",
      "source": [
        "Perceptron AND"
      ],
      "metadata": {
        "id": "Zfczm-Nrmozu"
      }
    },
    {
      "cell_type": "code",
      "source": [
        "def per_and(a,b):\n",
        "    w1 = np.array([1,1])\n",
        "\n",
        "    c = np.vstack((a,b)) \n",
        "    # operacion wx + b\n",
        "    result = np.matmul(w1,c)\n",
        "    \n",
        "    # Funcion step\n",
        "    result = result > 1\n",
        "    return result.astype(int)"
      ],
      "metadata": {
        "id": "N6u-aODzmjRH"
      },
      "execution_count": 15,
      "outputs": []
    },
    {
      "cell_type": "code",
      "source": [
        "test1= np.array([1,1,0,0])\n",
        "test2= np.array([0,1,0,1])\n",
        "\n",
        "per_and(test1, test2)"
      ],
      "metadata": {
        "colab": {
          "base_uri": "https://localhost:8080/"
        },
        "id": "LopAEaW8mjVq",
        "outputId": "97341f7e-b28c-43b7-f985-23a94590984c"
      },
      "execution_count": 16,
      "outputs": [
        {
          "output_type": "execute_result",
          "data": {
            "text/plain": [
              "array([0, 1, 0, 0])"
            ]
          },
          "metadata": {},
          "execution_count": 16
        }
      ]
    },
    {
      "cell_type": "markdown",
      "source": [
        "**Perceptron OR**"
      ],
      "metadata": {
        "id": "QsfX1hTCmxa5"
      }
    },
    {
      "cell_type": "code",
      "source": [
        "def per_or(a,b):\n",
        "    w1 = np.array([1,1])\n",
        "\n",
        "    c = np.vstack((a,b)) \n",
        "    # operacion wx + b\n",
        "    result = np.matmul(w1,c)\n",
        "    \n",
        "    # Funcion step\n",
        "    result = result >= 1\n",
        "    return result.astype(int)"
      ],
      "metadata": {
        "id": "ZcT6CPV1mdEN"
      },
      "execution_count": 17,
      "outputs": []
    },
    {
      "cell_type": "code",
      "source": [
        "test1= np.array([1,1,0,0])\n",
        "test2= np.array([0,1,0,1])\n",
        "\n",
        "per_or(test1, test2)"
      ],
      "metadata": {
        "colab": {
          "base_uri": "https://localhost:8080/"
        },
        "id": "-aYnBbGJmdHS",
        "outputId": "b6855b4b-e858-457d-9fb0-c75281930df9"
      },
      "execution_count": 18,
      "outputs": [
        {
          "output_type": "execute_result",
          "data": {
            "text/plain": [
              "array([1, 1, 0, 1])"
            ]
          },
          "metadata": {},
          "execution_count": 18
        }
      ]
    },
    {
      "cell_type": "code",
      "source": [
        "def per_xor(x1,x2):\n",
        "    and1 = per_and(x1,x2)\n",
        "    or1 = per_or(x1,x2)\n",
        "    \n",
        "    nand1 = vnot(and1)\n",
        "    salida = per_and(nand1,or1)\n",
        "    return salida"
      ],
      "metadata": {
        "id": "WqP67_Umm7KP"
      },
      "execution_count": 19,
      "outputs": []
    },
    {
      "cell_type": "code",
      "source": [
        "test1= np.array([1,1,0,0])\n",
        "test2= np.array([0,1,0,1])\n",
        "\n",
        "per_xor(test1, test2)"
      ],
      "metadata": {
        "colab": {
          "base_uri": "https://localhost:8080/"
        },
        "id": "4Q6IcOj3m9bu",
        "outputId": "3ae983cb-b2aa-453e-c108-61dd9efb98b5"
      },
      "execution_count": 20,
      "outputs": [
        {
          "output_type": "execute_result",
          "data": {
            "text/plain": [
              "array([1, 0, 0, 1])"
            ]
          },
          "metadata": {},
          "execution_count": 20
        }
      ]
    },
    {
      "cell_type": "markdown",
      "source": [
        "Representacion grafica de los datos xor"
      ],
      "metadata": {
        "id": "Lvo5GLzPnA5n"
      }
    },
    {
      "cell_type": "code",
      "source": [
        "import matplotlib.pyplot as plt\n",
        "import seaborn as sb"
      ],
      "metadata": {
        "id": "6Mq1uB3onCyv"
      },
      "execution_count": 21,
      "outputs": []
    },
    {
      "cell_type": "code",
      "source": [
        "x1= np.array([1,1,0,0])\n",
        "x2= np.array([0,1,0,1])\n",
        "\n",
        "and1 = per_and(x1,x2)\n",
        "or1 = per_or(x1,x2)\n",
        "nand1 = vnot(and1)\n",
        "xor_f = per_and(nand1,or1)"
      ],
      "metadata": {
        "id": "D1HtiuXtnE_5"
      },
      "execution_count": 22,
      "outputs": []
    },
    {
      "cell_type": "code",
      "source": [
        "ax = sb.scatterplot(x=nand1, y=or1,s=75, hue=xor_f)"
      ],
      "metadata": {
        "colab": {
          "base_uri": "https://localhost:8080/",
          "height": 265
        },
        "id": "B87iP8zVnH3Z",
        "outputId": "6e55b67c-d046-4df1-ef7a-780e89bcca24"
      },
      "execution_count": 23,
      "outputs": [
        {
          "output_type": "display_data",
          "data": {
            "text/plain": [
              "<Figure size 432x288 with 1 Axes>"
            ],
            "image/png": "[encoded data removed]"
          },
          "metadata": {
            "needs_background": "light"
          }
        }
      ]
    },
    {
      "cell_type": "markdown",
      "source": [
        "Conclusiones\n",
        "\n",
        "La capa intermedia crea un plano de separacion lineal de los datos; esto proboca un reduccion en la complejidad inical que puedan tener los mismos.\n",
        "\n",
        "\n"
      ],
      "metadata": {
        "id": "EHQuXGxvnPOk"
      }
    }
  ]
}