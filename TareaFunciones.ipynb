{
 "cells": [
  {
   "cell_type": "markdown",
   "id": "20f62d20",
   "metadata": {},
   "source": [
    "### Luis Adolfo Martínez Ortiz\n",
    "#### Carnet: 22000352"
   ]
  },
  {
   "cell_type": "markdown",
   "id": "91f403a6",
   "metadata": {},
   "source": [
    "### Funciones en python \n",
    "\n",
    "   Son bloques de codigo que se pueden definir y que se reutilizar en cualquier momento de nuestro codigo.\n",
    "Hay funciones definidas por el usuario y otras que ya estan definidas por python y algunas librerias que podemos\n",
    "usar."
   ]
  },
  {
   "cell_type": "markdown",
   "id": "39609f04",
   "metadata": {},
   "source": [
    "#### Ejemplo función definida por el usuario"
   ]
  },
  {
   "cell_type": "code",
   "execution_count": 2,
   "id": "3ef8d46e",
   "metadata": {},
   "outputs": [
    {
     "name": "stdout",
     "output_type": "stream",
     "text": [
      "Numero es positivo\n"
     ]
    }
   ],
   "source": [
    "def positivo_negativo(x):\n",
    "    if x < 0:\n",
    "        a = 'Numero es negativo'\n",
    "    elif x > 0 :\n",
    "        a = 'Numero es positivo'\n",
    "    else:\n",
    "        a = 'Es igual a cero'\n",
    "    return a;    \n",
    "\n",
    "#usamos funcion\n",
    "\n",
    "print(positivo_negativo(1))"
   ]
  },
  {
   "cell_type": "markdown",
   "id": "88a8115f",
   "metadata": {},
   "source": [
    " #### ejemplo función ya definida por python\n",
    " #### sum() -> funcion que retorna la suma de un objeto"
   ]
  },
  {
   "cell_type": "code",
   "execution_count": 3,
   "id": "61c60d70",
   "metadata": {},
   "outputs": [
    {
     "name": "stdout",
     "output_type": "stream",
     "text": [
      "9\n"
     ]
    }
   ],
   "source": [
    "x =  [3,2,4]\n",
    "print(sum(x))"
   ]
  },
  {
   "cell_type": "markdown",
   "id": "3b2c7426",
   "metadata": {},
   "source": [
    "### Parametros posicionales\n",
    "Paramtero posicionales, son tipos de parámetros definidos en una función que nos indica que debemos ingresarlos en el orden requeridos, y no se pueden nombrar para intercambiar el orden.\n",
    "\n",
    "#### Ejemplo\n"
   ]
  },
  {
   "cell_type": "code",
   "execution_count": 4,
   "id": "08887474",
   "metadata": {},
   "outputs": [
    {
     "data": {
      "text/plain": [
       "9"
      ]
     },
     "execution_count": 4,
     "metadata": {},
     "output_type": "execute_result"
    }
   ],
   "source": [
    "def potencia(x,y,/):\n",
    "    return x**y  #/ lo usamos para indicar el tipo de parametro posicional\n",
    "\n",
    "potencia(3,2)"
   ]
  },
  {
   "cell_type": "markdown",
   "id": "e7503b0c",
   "metadata": {},
   "source": [
    "Si intentamos nombrar los parametros nos dara un error porque son parametros posicionales"
   ]
  },
  {
   "cell_type": "code",
   "execution_count": 5,
   "id": "ecc7dc40",
   "metadata": {},
   "outputs": [
    {
     "ename": "TypeError",
     "evalue": "potencia() got some positional-only arguments passed as keyword arguments: 'x, y'",
     "output_type": "error",
     "traceback": [
      "\u001b[1;31m---------------------------------------------------------------------------\u001b[0m",
      "\u001b[1;31mTypeError\u001b[0m                                 Traceback (most recent call last)",
      "\u001b[1;32mC:\\Users\\AMARTI~1\\AppData\\Local\\Temp/ipykernel_4044/2414040747.py\u001b[0m in \u001b[0;36m<module>\u001b[1;34m\u001b[0m\n\u001b[1;32m----> 1\u001b[1;33m \u001b[0mpotencia\u001b[0m\u001b[1;33m(\u001b[0m\u001b[0my\u001b[0m\u001b[1;33m=\u001b[0m\u001b[1;36m3\u001b[0m\u001b[1;33m,\u001b[0m\u001b[0mx\u001b[0m\u001b[1;33m=\u001b[0m\u001b[1;36m2\u001b[0m\u001b[1;33m)\u001b[0m\u001b[1;33m\u001b[0m\u001b[1;33m\u001b[0m\u001b[0m\n\u001b[0m",
      "\u001b[1;31mTypeError\u001b[0m: potencia() got some positional-only arguments passed as keyword arguments: 'x, y'"
     ]
    }
   ],
   "source": [
    "potencia(y=3,x=2)"
   ]
  },
  {
   "cell_type": "markdown",
   "id": "66d56ef2",
   "metadata": {},
   "source": [
    "### Parametros nombrados\n",
    "\n",
    "Son aquellos que nos permite colocarlos en el orden deseado nombrando el nombre de la variable y el valor asignado.\n",
    "\n",
    "#### Ejemplo:\n"
   ]
  },
  {
   "cell_type": "code",
   "execution_count": 9,
   "id": "374e50a5",
   "metadata": {},
   "outputs": [
    {
     "data": {
      "text/plain": [
       "9"
      ]
     },
     "execution_count": 9,
     "metadata": {},
     "output_type": "execute_result"
    }
   ],
   "source": [
    "def potencia_2(*,x,y):\n",
    "    return x**y   # el * lo utilizamos para indicar que son parametros nombrados\n",
    "potencia_2(y=2,x=3)"
   ]
  },
  {
   "cell_type": "markdown",
   "id": "57ec3995",
   "metadata": {},
   "source": [
    "Al igual que al nombrar los paramteros posicionales nos da error, aca al no nombrarlos nos dara error"
   ]
  },
  {
   "cell_type": "code",
   "execution_count": 10,
   "id": "05425590",
   "metadata": {},
   "outputs": [
    {
     "ename": "TypeError",
     "evalue": "potencia_2() takes 0 positional arguments but 2 were given",
     "output_type": "error",
     "traceback": [
      "\u001b[1;31m---------------------------------------------------------------------------\u001b[0m",
      "\u001b[1;31mTypeError\u001b[0m                                 Traceback (most recent call last)",
      "\u001b[1;32mC:\\Users\\AMARTI~1\\AppData\\Local\\Temp/ipykernel_4044/2136414239.py\u001b[0m in \u001b[0;36m<module>\u001b[1;34m\u001b[0m\n\u001b[1;32m----> 1\u001b[1;33m \u001b[0mpotencia_2\u001b[0m\u001b[1;33m(\u001b[0m\u001b[1;36m2\u001b[0m\u001b[1;33m,\u001b[0m\u001b[1;36m3\u001b[0m\u001b[1;33m)\u001b[0m\u001b[1;33m\u001b[0m\u001b[1;33m\u001b[0m\u001b[0m\n\u001b[0m",
      "\u001b[1;31mTypeError\u001b[0m: potencia_2() takes 0 positional arguments but 2 were given"
     ]
    }
   ],
   "source": [
    "potencia_2(2,3)"
   ]
  },
  {
   "cell_type": "markdown",
   "id": "dc1a1c42",
   "metadata": {},
   "source": [
    "### Funciones de multiples valores\n",
    "\n",
    "Son tipo de funciones que nos permite devolver multiples valores y estos asignarlos a variables distintas\n",
    "\n",
    "#### Ejemplo:\n"
   ]
  },
  {
   "cell_type": "code",
   "execution_count": 11,
   "id": "644d537e",
   "metadata": {},
   "outputs": [
    {
     "name": "stdout",
     "output_type": "stream",
     "text": [
      "El maximo es: 101 y el minimo es:  1\n"
     ]
    }
   ],
   "source": [
    "def max_min(arr):\n",
    "    return max(arr),min(arr)\n",
    "\n",
    "\n",
    "v = [20,1,2,6,87,101]\n",
    "#asignamos devueltos en dos variables\n",
    "maximo,minimo = max_min(v)\n",
    "\n",
    "print(\"El maximo es:\",maximo,\"y el minimo es: \",minimo)\n"
   ]
  },
  {
   "cell_type": "markdown",
   "id": "b1d21cda",
   "metadata": {},
   "source": [
    "### Funciones lambda\n",
    "\n",
    "Son funciones también conocidas como anónimas que se utilizan cuando necesitamos realizar algo simple, declarando funciones\n",
    "pequeñas.\n",
    "\n",
    "#### Ejemplo:"
   ]
  },
  {
   "cell_type": "code",
   "execution_count": 12,
   "id": "26faebc3",
   "metadata": {},
   "outputs": [
    {
     "name": "stdout",
     "output_type": "stream",
     "text": [
      "9\n"
     ]
    }
   ],
   "source": [
    "potencia_3 = lambda x,y: x**y\n",
    "print(potencia_3(3,2))"
   ]
  },
  {
   "cell_type": "markdown",
   "id": "cf18dcf0",
   "metadata": {},
   "source": [
    "### Funciones como parametros\n",
    "Es la posibilidad que nos brinda python de poder enviar como parametros en las funciones otras funciones,son funciones higher-order functions\n",
    "\n",
    "#### Ejemplo:"
   ]
  },
  {
   "cell_type": "code",
   "execution_count": 14,
   "id": "f2e9ff3e",
   "metadata": {},
   "outputs": [
    {
     "name": "stdout",
     "output_type": "stream",
     "text": [
      "10\n"
     ]
    }
   ],
   "source": [
    "def sumar(a,b):\n",
    "   return a+b\n",
    "\n",
    "def multiplicar(s,y):\n",
    "    return s(2,3)*y\n",
    "\n",
    "#llamamos la función de multiplicar y enviamos la funcion de sumar\n",
    "print(multiplicar(sumar, 2))"
   ]
  },
  {
   "cell_type": "markdown",
   "id": "16737aff",
   "metadata": {},
   "source": [
    "### Funciones como objetos\n",
    "Las funciones en python se pueden utilizar en cualquier parte de nuestro código y a la vez asignar la función a otra variable, y esta recibe una referencia a nuestro objeto que en este caso es nuestra función.\n",
    "\n",
    "#### Ejemplo:\n",
    "\n",
    "Asigno mi función a una variable y luego la podemos usar como si fuera la función ya que tiene una referencia a nuestro objeto."
   ]
  },
  {
   "cell_type": "code",
   "execution_count": 17,
   "id": "1b271a53",
   "metadata": {},
   "outputs": [
    {
     "name": "stdout",
     "output_type": "stream",
     "text": [
      "11\n"
     ]
    }
   ],
   "source": [
    "v_asigna = sumar \n",
    "\n",
    "print(v_asigna(5,6))"
   ]
  },
  {
   "cell_type": "code",
   "execution_count": null,
   "id": "4cac5e44",
   "metadata": {},
   "outputs": [],
   "source": []
  }
 ],
 "metadata": {
  "kernelspec": {
   "display_name": "Python 3 (ipykernel)",
   "language": "python",
   "name": "python3"
  },
  "language_info": {
   "codemirror_mode": {
    "name": "ipython",
    "version": 3
   },
   "file_extension": ".py",
   "mimetype": "text/x-python",
   "name": "python",
   "nbconvert_exporter": "python",
   "pygments_lexer": "ipython3",
   "version": "3.9.7"
  }
 },
 "nbformat": 4,
 "nbformat_minor": 5
}
