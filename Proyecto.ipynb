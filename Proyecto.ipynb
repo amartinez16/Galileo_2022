{
 "cells": [
  {
   "cell_type": "code",
   "execution_count": 1,
   "id": "6f6167e9",
   "metadata": {},
   "outputs": [],
   "source": [
    "import numpy as np\n",
    "import pandas as pd\n",
    "import seaborn as sns\n",
    "import matplotlib.pyplot as plt\n",
    "import os\n",
    "\n",
    "#os.chdir('c:\\proyecto')\n",
    "\n",
    "data = np.load('proyecto_training_data.npy')"
   ]
  },
  {
   "cell_type": "code",
   "execution_count": 3,
   "id": "f72dd8a2",
   "metadata": {},
   "outputs": [
    {
     "data": {
      "text/plain": [
       "(array([  4.,  27., 118., 287., 369., 338., 204.,  84.,  21.,   8.]),\n",
       " array([-3.27176206, -2.58956341, -1.90736477, -1.22516612, -0.54296747,\n",
       "         0.13923118,  0.82142982,  1.50362847,  2.18582712,  2.86802577,\n",
       "         3.55022442]),\n",
       " <BarContainer object of 10 artists>)"
      ]
     },
     "execution_count": 3,
     "metadata": {},
     "output_type": "execute_result"
    },
    {
     "data": {
      "image/png": "[encoded data removed]",
      "text/plain": [
       "<Figure size 432x288 with 1 Axes>"
      ]
     },
     "metadata": {
      "needs_background": "light"
     },
     "output_type": "display_data"
    }
   ],
   "source": [
    "#distribucion normal de la longitud del dataset para luego dividrlo y tomar el 80% para entrenamiento\n",
    "distri = np.random.randn(len(data))\n",
    "\n",
    "plt.hist(distri)"
   ]
  },
  {
   "cell_type": "code",
   "execution_count": 4,
   "id": "ffe7e0e3",
   "metadata": {},
   "outputs": [],
   "source": [
    "#obtenemos para el 80% para entrenar\n",
    "\n",
    "check = (distri<0.80)\n",
    "training = np.nan_to_num(data[check])   #80% de la data\n",
    "testing   = np.nan_to_num(data[~check])  #80% de la data\n"
   ]
  },
  {
   "cell_type": "code",
   "execution_count": 5,
   "id": "138f35fe",
   "metadata": {},
   "outputs": [
    {
     "data": {
      "text/plain": [
       "(1137, 323)"
      ]
     },
     "execution_count": 5,
     "metadata": {},
     "output_type": "execute_result"
    }
   ],
   "source": [
    "len(training),len(testing)"
   ]
  },
  {
   "cell_type": "code",
   "execution_count": null,
   "id": "f93567aa",
   "metadata": {},
   "outputs": [],
   "source": []
  }
 ],
 "metadata": {
  "kernelspec": {
   "display_name": "Python 3 (ipykernel)",
   "language": "python",
   "name": "python3"
  },
  "language_info": {
   "codemirror_mode": {
    "name": "ipython",
    "version": 3
   },
   "file_extension": ".py",
   "mimetype": "text/x-python",
   "name": "python",
   "nbconvert_exporter": "python",
   "pygments_lexer": "ipython3",
   "version": "3.9.7"
  }
 },
 "nbformat": 4,
 "nbformat_minor": 5
}
