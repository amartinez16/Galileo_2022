{
 "cells": [
  {
   "cell_type": "code",
   "execution_count": 2,
   "id": "6f6167e9",
   "metadata": {},
   "outputs": [],
   "source": [
    "import numpy as np\n",
    "import pandas as pd\n",
    "import seaborn as sns\n",
    "import matplotlib.pyplot as plt\n",
    "import os\n",
    "\n",
    "#os.chdir('c:\\proyecto')\n",
    "\n",
    "data = np.load('proyecto_training_data.npy')"
   ]
  },
  {
   "cell_type": "code",
   "execution_count": 3,
   "id": "f72dd8a2",
   "metadata": {},
   "outputs": [
    {
     "data": {
      "text/plain": [
       "(array([  7.,  24.,  92., 219., 349., 372., 270., 101.,  22.,   4.]),\n",
       " array([-3.45282743e+00, -2.76232204e+00, -2.07181664e+00, -1.38131124e+00,\n",
       "        -6.90805837e-01, -3.00437150e-04,  6.90204962e-01,  1.38071036e+00,\n",
       "         2.07121576e+00,  2.76172116e+00,  3.45222656e+00]),\n",
       " <BarContainer object of 10 artists>)"
      ]
     },
     "execution_count": 3,
     "metadata": {},
     "output_type": "execute_result"
    },
    {
     "data": {
      "image/png": "[encoded data removed]",
      "text/plain": [
       "<Figure size 432x288 with 1 Axes>"
      ]
     },
     "metadata": {
      "needs_background": "light"
     },
     "output_type": "display_data"
    }
   ],
   "source": [
    "#distribucion normal de la longitud del dataset para luego dividrlo y tomar el 80% para entrenamiento\n",
    "distri = np.random.randn(len(data))\n",
    "\n",
    "plt.hist(distri)"
   ]
  },
  {
   "cell_type": "code",
   "execution_count": 4,
   "id": "ffe7e0e3",
   "metadata": {},
   "outputs": [],
   "source": [
    "#obtenemos para el 80% para entrenar\n",
    "\n",
    "check = (distri<0.80)\n",
    "training = np.nan_to_num(data[check])   #80% de la data\n",
    "testing   = np.nan_to_num(data[~check])  #80% de la data\n"
   ]
  },
  {
   "cell_type": "code",
   "execution_count": 5,
   "id": "138f35fe",
   "metadata": {},
   "outputs": [
    {
     "data": {
      "text/plain": [
       "(1103, 357)"
      ]
     },
     "execution_count": 5,
     "metadata": {},
     "output_type": "execute_result"
    }
   ],
   "source": [
    "len(training),len(testing)"
   ]
  },
  {
   "cell_type": "code",
   "execution_count": 6,
   "id": "f93567aa",
   "metadata": {},
   "outputs": [],
   "source": [
    "columna = [\"SalePrice\",\"OverallQual\",\"1stFlrSF\",\"TotRmsAbvGrd\",\"YearBuilt\",\"LotFrontage\"]\n",
    "\n",
    "dt = pd.DataFrame(training,columns=columna)"
   ]
  },
  {
   "cell_type": "code",
   "execution_count": 7,
   "id": "594eff38",
   "metadata": {},
   "outputs": [],
   "source": [
    "def calcula_estadisitica(arr,columna):\n",
    "    print(\"  Media:\", np.mean(arr[columna]))\n",
    "    print(\"  Maximo: \", np.max(arr[columna]))\n",
    "    print(\"  Minimo: \", np.min(arr[columna]))\n",
    "    print(\"  Rango: \", np.ptp(arr[columna],axis=0))\n",
    "    print(\"  Std   : \", np.std(arr[columna]))"
   ]
  },
  {
   "cell_type": "code",
   "execution_count": 8,
   "id": "4d6efac7",
   "metadata": {},
   "outputs": [],
   "source": [
    "def grafica_distplot(filas,columnas,dato):\n",
    "    fila = 0\n",
    "    columna = 0\n",
    "    a, axes = plt.subplots(filas, columnas, figsize=(17, 10))\n",
    "    for i in dato.columns:\n",
    "        if columna == (columnas):\n",
    "            fila += 1\n",
    "            columna = 0\n",
    "        sns.distplot(dato[i],ax=axes[fila,columna])\n",
    "        columna += 1"
   ]
  },
  {
   "cell_type": "code",
   "execution_count": 9,
   "id": "a31f2b1f",
   "metadata": {},
   "outputs": [],
   "source": [
    "def grafica_correlacion(filas, columnas,dato,correla):\n",
    "    fila = 0\n",
    "    columna = 0\n",
    "    fig, axs = plt.subplots(filas, columnas, figsize=(17, 10))\n",
    "    for i in dato.columns:\n",
    "        if columna == (columnas):\n",
    "            fila += 1\n",
    "            columna = 0\n",
    "        axs[fila,columna].scatter(dato[i],dato['SalePrice'])\n",
    "        axs[fila,columna].set_title(i +' coeficiente: '+ str(round(correla[i][0],4)))\n",
    "        columna += 1\n",
    "    #+ str(correla[i][1]"
   ]
  },
  {
   "cell_type": "code",
   "execution_count": null,
   "id": "b051d0eb",
   "metadata": {},
   "outputs": [],
   "source": []
  }
 ],
 "metadata": {
  "kernelspec": {
   "display_name": "Python 3 (ipykernel)",
   "language": "python",
   "name": "python3"
  },
  "language_info": {
   "codemirror_mode": {
    "name": "ipython",
    "version": 3
   },
   "file_extension": ".py",
   "mimetype": "text/x-python",
   "name": "python",
   "nbconvert_exporter": "python",
   "pygments_lexer": "ipython3",
   "version": "3.9.7"
  }
 },
 "nbformat": 4,
 "nbformat_minor": 5
}
