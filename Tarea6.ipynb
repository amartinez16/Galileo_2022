{
 "cells": [
  {
   "cell_type": "markdown",
   "id": "9998efa5",
   "metadata": {},
   "source": [
    "Tarea 6 - Ejercicios finales numpy\n",
    "### Luis Adolfo Martínez Ortíz  - 22000352"
   ]
  },
  {
   "cell_type": "markdown",
   "id": "e3702878",
   "metadata": {},
   "source": [
    "**Ejercicio**: Investigar y ejemplificar diferencias entre np.array y np.matrix"
   ]
  },
  {
   "cell_type": "markdown",
   "id": "33d859b0",
   "metadata": {},
   "source": [
    "np.array puede representar datos com más de una dimensión (ndarray), mientras np.matriz solo de dos dimensiones que forma fias y columna que se utilizan mucho en Machine Learning, analisis de correlacion (matriz de correlación) y análisis exploratios"
   ]
  },
  {
   "cell_type": "code",
   "execution_count": 3,
   "id": "e9ef950d",
   "metadata": {},
   "outputs": [],
   "source": [
    "import numpy as np"
   ]
  },
  {
   "cell_type": "code",
   "execution_count": 22,
   "id": "3a220363",
   "metadata": {},
   "outputs": [
    {
     "name": "stdout",
     "output_type": "stream",
     "text": [
      "[[[4 3]\n",
      "  [2 1]]\n",
      "\n",
      " [[2 3]\n",
      "  [1 4]]]\n",
      "Rango:  3 3\n"
     ]
    }
   ],
   "source": [
    "# np.array de mas dos dimensions\n",
    "arr = np.array([[[4, 3], [2, 1]], \n",
    "              [[2, 3], [1, 4]]])\n",
    "print(arr)\n",
    "print(\"Rango: \", np.ndim(arr))"
   ]
  },
  {
   "cell_type": "code",
   "execution_count": 31,
   "id": "9ca50e0b",
   "metadata": {},
   "outputs": [
    {
     "name": "stdout",
     "output_type": "stream",
     "text": [
      "[[5 7 9]\n",
      " [3 4 5]\n",
      " [4 5 6]]\n",
      "Rango:  2\n"
     ]
    }
   ],
   "source": [
    "#np.matriz\n",
    "matriz = np.matrix([[5, 7, 9],[3,4,5],[4,5,6]])\n",
    "print(matriz)\n",
    "print(\"Rango: \", np.ndim(matriz))"
   ]
  },
  {
   "cell_type": "markdown",
   "id": "8a860337",
   "metadata": {},
   "source": [
    "**Ejercicio aplicado en DS**\n",
    "Se tiene una red neuronal sencilla(y simplificada) como la de la siguiente imagen:\n",
    "<img src=\"https://www.oreilly.com/library/view/practical-convolutional-neural/9781788392303/assets/246151fb-7893-448d-b9bb-7a87b387a24b.png\">\n",
    "\n",
    "Donde:\n",
    "* INPUT LAYER: un vector X de tamaño = 2 que representa los datos de entrada\n",
    "* HIDDEN_LAYER :capa oculta con 2 neuronas definidas por los vectores:\n",
    "    * HL1 = [0.25,0.37]\n",
    "    * HL2 = [-8,14]\n",
    "* OUTPUT_LAYER = capa de salida definida por el vector [4,9]\n",
    "\n",
    "Crear una funcion neural_network(X) para calcular:\n",
    "* Calcule la salida de cada neurona en la capa intermedia aplicada a la capa de entrada.\n",
    "* Use el resultado del paso anterior como entrada para la neurona en la capa de salida\n",
    "\n",
    "Utilizando multiplicación de matrices se debe calcular para cada fila de la matriz de entrada X el valor de las neuronas de la capa intermedia, esto producirá una nueva matriz con el mismo número de filas que X y 2 columnas(1 para cada neurona) , a  los valores de esta matriz se les debe aplicar la función \"sigmoid\"(descrita a continuación) para limitarlos al intervalo de 0 a 1, esto produce una matriz del mismo tamaño pero con valores entre 0 a 1, esta matriz se multiplica matricialmente por la matriz que representa los pesos de la capa de salida  y este proceso produce un nuevo tensor al cual se debe aplicar nuevamente la función sigmoid. El resultado debe ser un tensor con el mismo número de filas que la matriz X y una sola columna(una predicción para cada fila de X.\n",
    "\n",
    "<img src=\"https://cdn-images-1.medium.com/max/1600/1*Xu7B5y9gp0iL5ooBj7LtWw.png\">"
   ]
  },
  {
   "cell_type": "code",
   "execution_count": 32,
   "id": "d9b9621d",
   "metadata": {},
   "outputs": [],
   "source": [
    "def sigmoid(x): #convertir los valores de x al rango de 0 a 1\n",
    "    \n",
    "    return 1/(1+np.exp(-x))"
   ]
  },
  {
   "cell_type": "code",
   "execution_count": 33,
   "id": "93da8504",
   "metadata": {},
   "outputs": [
    {
     "name": "stdout",
     "output_type": "stream",
     "text": [
      "[[0.99995577]\n",
      " [0.99999332]]\n"
     ]
    }
   ],
   "source": [
    "H1_W = np.array([[0.25,-8],\n",
    "                 [0.37,14]])\n",
    "OL_W = np.array([[4],[9]])\n",
    "\n",
    "X =  np.array([[0.1,0.2],\n",
    "               [1,2]])\n",
    "\n",
    "H1 = np.matmul(X,H1_W)\n",
    "H1 = sigmoid(H1)  # funcion de activacion: convertir a valores en el intervalo de 0 a 1\n",
    "OL = np.matmul(H1,OL_W)\n",
    "OL = sigmoid(OL)  # funcion de activacion: convertir a valores en el intervalo de 0 a 1\n",
    "\n",
    "\n",
    "print(OL)"
   ]
  },
  {
   "cell_type": "markdown",
   "id": "73a617e6",
   "metadata": {},
   "source": [
    "### Ejercicio \n",
    "\n",
    "Implementar en una funcion neural_network(X) la red neuronal definida por la siguiente arquitectura:\n",
    "\n",
    "<img src=\"http://i.imgur.com/UNlffE1.png\">\n",
    "\n",
    "Podemos validar si fue correctamente implementada si usamos como entrada el vector x=[1,1] . Debemos obtener el resultado mostrado en la imagen.\n",
    "\n",
    "Una vez tenemos la implementacion correcta, cambiar la funcion de activacion de la capa de salida por la funcion de activacion ReLu(https://en.wikipedia.org/wiki/Rectifier_(neural_networks)):\n",
    "\n",
    "<img src=\"https://cdn-images-1.medium.com/max/1600/1*DfMRHwxY1gyyDmrIAd-gjQ.png\">\n",
    "\n",
    "Luego evaluar la red neuronal sobre la matriz de datos X(de manera vectorizada):"
   ]
  },
  {
   "cell_type": "code",
   "execution_count": 83,
   "id": "b427cb9b",
   "metadata": {},
   "outputs": [],
   "source": [
    "def neural_network(x):\n",
    "  input_pesos = np.array([[0.712, 0.355, 0.268],\n",
    "                   [0.112, 0.855, 0.468]])\n",
    "  hidden = np.array([[0.116], [0.329], [0.708]])\n",
    "\n",
    "  hidden_1 = sigmoid(np.matmul(x,input_pesos)) \n",
    "  output = sigmoid(np.matmul(hidden_1,hidden))\n",
    "\n",
    "  return output\n"
   ]
  },
  {
   "cell_type": "code",
   "execution_count": 84,
   "id": "7fe11297",
   "metadata": {},
   "outputs": [
    {
     "name": "stdout",
     "output_type": "stream",
     "text": [
      "[0.69269553]\n",
      "(1,)\n"
     ]
    }
   ],
   "source": [
    "arr =  np.array([1,1])\n",
    "\n",
    "resultado = neural_network(arr)\n",
    "print(resultado)\n",
    "print(A.shape)"
   ]
  },
  {
   "cell_type": "markdown",
   "id": "346e2a24",
   "metadata": {},
   "source": [
    "Una vez tenemos la implementacion correcta, cambiar la funcion de activacion de la capa de salida por la funcion de activacion ReLu(https://en.wikipedia.org/wiki/Rectifier_(neural_networks)):"
   ]
  },
  {
   "cell_type": "code",
   "execution_count": 77,
   "id": "6515af8b",
   "metadata": {},
   "outputs": [],
   "source": [
    "def neural_network(X):\n",
    "  input_peso = np.array([[0.712, 0.355, 0.268],\n",
    "                   [0.112, 0.855, 0.468]])\n",
    "  \n",
    "  hidden = np.array([[0.116], [0.329], [0.708]])\n",
    "  sig = sigmoid(np.matmul(X,input_peso)) \n",
    "  output = max(np.matmul(sig,hidden))\n",
    "  return output"
   ]
  },
  {
   "cell_type": "code",
   "execution_count": 78,
   "id": "59479f01",
   "metadata": {},
   "outputs": [
    {
     "name": "stdout",
     "output_type": "stream",
     "text": [
      "[0.81275154]\n",
      "(1,)\n"
     ]
    }
   ],
   "source": [
    "arr =  np.array([[1,1],\n",
    "               [1,1]])\n",
    "\n",
    "resultado= neural_network(arr)\n",
    "print(resultado)\n",
    "print(A.shape)"
   ]
  }
 ],
 "metadata": {
  "kernelspec": {
   "display_name": "Python 3 (ipykernel)",
   "language": "python",
   "name": "python3"
  },
  "language_info": {
   "codemirror_mode": {
    "name": "ipython",
    "version": 3
   },
   "file_extension": ".py",
   "mimetype": "text/x-python",
   "name": "python",
   "nbconvert_exporter": "python",
   "pygments_lexer": "ipython3",
   "version": "3.9.7"
  }
 },
 "nbformat": 4,
 "nbformat_minor": 5
}
