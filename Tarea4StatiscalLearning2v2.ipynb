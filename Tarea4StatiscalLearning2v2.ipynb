{
  "nbformat": 4,
  "nbformat_minor": 0,
  "metadata": {
    "colab": {
      "provenance": [],
      "collapsed_sections": []
    },
    "kernelspec": {
      "name": "python3",
      "display_name": "Python 3"
    },
    "language_info": {
      "name": "python"
    }
  },
  "cells": [
    {
      "cell_type": "markdown",
      "source": [
        "Luis Adolfo Martínez Ortiz\n",
        "Carné:\n",
        "**22000352** "
      ],
      "metadata": {
        "id": "Wy4Cbo1kPCUq"
      }
    },
    {
      "cell_type": "markdown",
      "source": [
        "**Practica 4 ForwardPropagation**"
      ],
      "metadata": {
        "id": "QCVR36fC7L4u"
      }
    },
    {
      "cell_type": "code",
      "execution_count": null,
      "metadata": {
        "id": "cU89U_WlxbFq"
      },
      "outputs": [],
      "source": [
        "import numpy as np\n",
        "import matplotlib.pyplot as plt\n",
        "import seaborn as sb"
      ]
    },
    {
      "cell_type": "code",
      "source": [
        "import os.path\n",
        "from os import path"
      ],
      "metadata": {
        "id": "iPtMSPlB3Yxx"
      },
      "execution_count": null,
      "outputs": []
    },
    {
      "cell_type": "code",
      "source": [
        "from google.colab import drive\n",
        "drive.mount('/content/drive')"
      ],
      "metadata": {
        "id": "yqjgQ6hXzguW",
        "colab": {
          "base_uri": "https://localhost:8080/"
        },
        "outputId": "c0dc250b-8877-499b-cbcf-02de477bc20a"
      },
      "execution_count": null,
      "outputs": [
        {
          "output_type": "stream",
          "name": "stdout",
          "text": [
            "Drive already mounted at /content/drive; to attempt to forcibly remount, call drive.mount(\"/content/drive\", force_remount=True).\n"
          ]
        }
      ]
    },
    {
      "cell_type": "code",
      "source": [
        "direccion = \"/content/drive/MyDrive/TextMining/Archivos\"\n",
        "os.chdir(direccion)"
      ],
      "metadata": {
        "id": "BiRMsLT2zilX"
      },
      "execution_count": null,
      "outputs": []
    },
    {
      "cell_type": "code",
      "source": [
        "class RedNeuronal:\n",
        "    #efinimos el constructor\n",
        "    def __init__(self, w1, w2):    \n",
        "        self.wl1 = w1\n",
        "        self.wl2 = w2\n",
        "        self.hidden = None\n",
        "\n",
        "    #activación\n",
        "    def sigmoid(self,x):\n",
        "        return 1/(1+np.exp(-x))\n",
        "    \n",
        "    def forward_propagation(self,x, add_sesgo= False):\n",
        "        #print(x.shape)\n",
        "        #print(self.wl1.shape)\n",
        "        hidden = self.sigmoid(np.matmul(x,self.wl1.T))\n",
        "        self.hidden = hidden\n",
        "        if add_sesgo:\n",
        "            largo = hidden.shape[0]\n",
        "            sesgo = np.ones(largo).reshape(largo,1)\n",
        "            #print(sesgo.shape)\n",
        "            #print(hidden.shape)\n",
        "            hidden = np.hstack((hidden,sesgo))\n",
        "            #print(hidden.shape)\n",
        "        #print(hidden.shape)\n",
        "        #print(self.wl2.shape)\n",
        "        out = self.sigmoid(np.matmul(hidden,self.wl2.T))\n",
        "        #print(sal.shape)\n",
        "        return out\n",
        "    \n",
        "    def get_hidden(self):\n",
        "        return self.hidden"
      ],
      "metadata": {
        "id": "SvcRQIIiBu1J"
      },
      "execution_count": null,
      "outputs": []
    },
    {
      "cell_type": "code",
      "source": [
        "# 4 observaciones, 3 variable\n",
        "x1 = np.array([\n",
        " [5, 10, 1],\n",
        " [1, 12, 1],\n",
        " [5, 1, 1],    \n",
        " [10,5,1]\n",
        "])\n",
        "\n",
        "#Peso 1\n",
        "w11 = np.array([\n",
        "    [5, -2, -8],\n",
        "    [7, -3, 1]\n",
        "])\n",
        "#Peso 2\n",
        "w12 = np.array([[7, 5, -6]])"
      ],
      "metadata": {
        "id": "hSkyyVQVBzKJ"
      },
      "execution_count": null,
      "outputs": []
    },
    {
      "cell_type": "code",
      "source": [
        "#Diagrama 1\n",
        "red1  = RedNeuronal(w11,w12)\n",
        "y_aprox1 = red1.forward_propagation(x1,True)\n",
        "y_aprox1"
      ],
      "metadata": {
        "colab": {
          "base_uri": "https://localhost:8080/"
        },
        "id": "cvFKYOCwsc7O",
        "outputId": "6eb0788c-8fd5-4f11-a655-44087ca66b34"
      },
      "execution_count": null,
      "outputs": [
        {
          "output_type": "execute_result",
          "data": {
            "text/plain": [
              "array([[0.33617605],\n",
              "       [0.00247262],\n",
              "       [0.99752737],\n",
              "       [0.99752738]])"
            ]
          },
          "metadata": {},
          "execution_count": 58
        }
      ]
    },
    {
      "cell_type": "code",
      "source": [
        "# para colocarlo en 0 y 1 y gráficar\n",
        "def funcCeroUno(y,x):\n",
        "  red = (y>x).astype(int)\n",
        "  return red"
      ],
      "metadata": {
        "id": "20ZdVXmIB2Va"
      },
      "execution_count": null,
      "outputs": []
    },
    {
      "cell_type": "code",
      "source": [
        "x2 = np.array([\n",
        " [1, 1],\n",
        " [0, 0],\n",
        " [0, 1],    \n",
        " [-4, 3],\n",
        " [-10, 0],    \n",
        " [-5, -18],\n",
        "])\n",
        "\n",
        "w21 = np.array([\n",
        "    [8, 0.2],\n",
        "    [0.4, 0.9],\n",
        "    [0.3, 0.5]\n",
        "])\n",
        "\n",
        "w22 = np.array([[0.3, 0.5, 0.9]])"
      ],
      "metadata": {
        "id": "KDsvLRp7B4nS"
      },
      "execution_count": null,
      "outputs": []
    },
    {
      "cell_type": "code",
      "source": [
        "red2  = RedNeuronal(w21,w22)\n",
        "y_aprox2 = red2.forward_propagation(x2)\n",
        "y_aprox2"
      ],
      "metadata": {
        "colab": {
          "base_uri": "https://localhost:8080/"
        },
        "id": "MZxgd6G61UmZ",
        "outputId": "a7932b33-5c9c-44c8-abaa-77903c0e726b"
      },
      "execution_count": null,
      "outputs": [
        {
          "output_type": "execute_result",
          "data": {
            "text/plain": [
              "array([[0.78815037],\n",
              "       [0.70056714],\n",
              "       [0.74661477],\n",
              "       [0.70932919],\n",
              "       [0.51291622],\n",
              "       [0.5000062 ]])"
            ]
          },
          "metadata": {},
          "execution_count": 61
        }
      ]
    },
    {
      "cell_type": "code",
      "source": [
        "x3 = np.array([\n",
        " [1, 1, 1],\n",
        " [0, 0, 1],\n",
        " [0, 1, 0],    \n",
        " [1, 0, 1],\n",
        "])\n",
        "\n",
        "w31 = np.array([\n",
        "    [20, 20, -10],\n",
        "    [-20, -20, 30]\n",
        "])\n",
        "\n",
        "w32 = np.array([[20, 20, -30]])"
      ],
      "metadata": {
        "id": "-j5V6kErCR2R"
      },
      "execution_count": null,
      "outputs": []
    },
    {
      "cell_type": "code",
      "source": [
        "red3  = RedNeuronal(w31,w32)\n",
        "y_aprox3 = red3.forward_propagation(x3,True)\n",
        "y_aprox3"
      ],
      "metadata": {
        "colab": {
          "base_uri": "https://localhost:8080/"
        },
        "id": "Hy5wyDvv4wuG",
        "outputId": "d66a0a95-4d82-4ad0-cad0-b53b4f847913"
      },
      "execution_count": null,
      "outputs": [
        {
          "output_type": "execute_result",
          "data": {
            "text/plain": [
              "array([[4.54391049e-05],\n",
              "       [4.54391049e-05],\n",
              "       [4.53978687e-05],\n",
              "       [9.99954520e-01]])"
            ]
          },
          "metadata": {},
          "execution_count": 83
        }
      ]
    },
    {
      "cell_type": "code",
      "source": [
        "#Convertimos datos y_predc en 0 y 1 para gráficar\n",
        "red1_1 = funcCeroUno(y_aprox1,0.5)\n",
        "red2_2 = funcCeroUno(y_aprox2,0.6)\n",
        "red3_3 = funcCeroUno(y_aprox3,0.5)"
      ],
      "metadata": {
        "id": "wsEGM0f68-_D"
      },
      "execution_count": null,
      "outputs": []
    },
    {
      "cell_type": "code",
      "source": [
        "y_aprox1"
      ],
      "metadata": {
        "colab": {
          "base_uri": "https://localhost:8080/"
        },
        "id": "cvokefWPNb10",
        "outputId": "e8c973fe-d9ab-469a-e5e4-4c12ea8adaf9"
      },
      "execution_count": null,
      "outputs": [
        {
          "output_type": "execute_result",
          "data": {
            "text/plain": [
              "array([[0.33617605],\n",
              "       [0.00247262],\n",
              "       [0.99752737],\n",
              "       [0.99752738]])"
            ]
          },
          "metadata": {},
          "execution_count": 73
        }
      ]
    },
    {
      "cell_type": "code",
      "source": [
        "# Grafico 1\n",
        "ax = sb.scatterplot(x=red1.hidden[:,0], y=red1.hidden[:,1],s=75, hue=red1_1.T[0])"
      ],
      "metadata": {
        "colab": {
          "base_uri": "https://localhost:8080/",
          "height": 265
        },
        "id": "TNg9Op1FCtmC",
        "outputId": "b2665ecc-b11f-4779-81a6-3f451dd61c88"
      },
      "execution_count": null,
      "outputs": [
        {
          "output_type": "display_data",
          "data": {
            "text/plain": [
              "<Figure size 432x288 with 1 Axes>"
            ],
            "image/png": "[encoded data removed]"
          },
          "metadata": {
            "needs_background": "light"
          }
        }
      ]
    },
    {
      "cell_type": "code",
      "source": [
        "# Grafico 2\n",
        "ax = sb.scatterplot(x=red2.hidden[:,0], y=red2.hidden[:,1],s=75, hue=red2_2.T[0])"
      ],
      "metadata": {
        "colab": {
          "base_uri": "https://localhost:8080/",
          "height": 265
        },
        "id": "WHP0XMeVCukd",
        "outputId": "17519c84-5e80-4a5f-9aab-ae64a9d1d101"
      },
      "execution_count": null,
      "outputs": [
        {
          "output_type": "display_data",
          "data": {
            "text/plain": [
              "<Figure size 432x288 with 1 Axes>"
            ],
            "image/png": "[encoded data removed]"
          },
          "metadata": {
            "needs_background": "light"
          }
        }
      ]
    },
    {
      "cell_type": "code",
      "source": [
        "# Grafico 3\n",
        "ax = sb.scatterplot(x=red3.hidden[:,0], y=red3.hidden[:,1],s=75, hue=red3_3.T[0])"
      ],
      "metadata": {
        "colab": {
          "base_uri": "https://localhost:8080/",
          "height": 265
        },
        "id": "yaulr6WuCz7-",
        "outputId": "160b6bb0-caa8-4b3a-f249-e53dc9b1efb6"
      },
      "execution_count": null,
      "outputs": [
        {
          "output_type": "display_data",
          "data": {
            "text/plain": [
              "<Figure size 432x288 with 1 Axes>"
            ],
            "image/png": "[encoded data removed]"
          },
          "metadata": {
            "needs_background": "light"
          }
        }
      ]
    },
    {
      "cell_type": "markdown",
      "source": [
        "**Conclusion**"
      ],
      "metadata": {
        "id": "Ev9jJ-zUQwWR"
      }
    },
    {
      "cell_type": "markdown",
      "source": [
        "La transformación que sufren los datos hace que se proyecten a un plano distinto al origenal, debido a la activación con Sigmoid los Rangos estan entre 0 y 1, por lo que no importa la entrada o cantidad de datos."
      ],
      "metadata": {
        "id": "DIYZEgCoQ00q"
      }
    }
  ]
}